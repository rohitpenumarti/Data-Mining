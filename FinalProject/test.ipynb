{
 "cells": [
  {
   "cell_type": "code",
   "execution_count": 1,
   "metadata": {},
   "outputs": [],
   "source": [
    "from xgboost import XGBRegressor\n",
    "import pandas as pd\n",
    "from sklearn.metrics import mean_squared_error\n",
    "from hyperopt import STATUS_OK, Trials, fmin, hp, tpe"
   ]
  },
  {
   "cell_type": "code",
   "execution_count": 2,
   "metadata": {},
   "outputs": [],
   "source": [
    "train_df = pd.read_csv('train.csv')\n",
    "test_df = pd.read_csv('test.csv')"
   ]
  },
  {
   "cell_type": "code",
   "execution_count": 3,
   "metadata": {},
   "outputs": [
    {
     "data": {
      "text/html": [
       "<div>\n",
       "<style scoped>\n",
       "    .dataframe tbody tr th:only-of-type {\n",
       "        vertical-align: middle;\n",
       "    }\n",
       "\n",
       "    .dataframe tbody tr th {\n",
       "        vertical-align: top;\n",
       "    }\n",
       "\n",
       "    .dataframe thead th {\n",
       "        text-align: right;\n",
       "    }\n",
       "</style>\n",
       "<table border=\"1\" class=\"dataframe\">\n",
       "  <thead>\n",
       "    <tr style=\"text-align: right;\">\n",
       "      <th></th>\n",
       "      <th>Unnamed: 0</th>\n",
       "      <th>user_id</th>\n",
       "      <th>business_id</th>\n",
       "      <th>rating</th>\n",
       "      <th>rounded_business_rating</th>\n",
       "      <th>latitude</th>\n",
       "      <th>longitude</th>\n",
       "      <th>average_user_rating</th>\n",
       "      <th>num_user_reviews</th>\n",
       "      <th>avg_user_compliments</th>\n",
       "      <th>...</th>\n",
       "      <th>name_le</th>\n",
       "      <th>max_user_likes</th>\n",
       "      <th>total_user_likes</th>\n",
       "      <th>avg_user_likes</th>\n",
       "      <th>max_business_likes</th>\n",
       "      <th>total_business_likes</th>\n",
       "      <th>avg_business_likes</th>\n",
       "      <th>max_ub_pair_likes</th>\n",
       "      <th>total_ub_pair_likes</th>\n",
       "      <th>avg_ub_pair_likes</th>\n",
       "    </tr>\n",
       "  </thead>\n",
       "  <tbody>\n",
       "    <tr>\n",
       "      <th>0</th>\n",
       "      <td>0</td>\n",
       "      <td>pmKnNkGVgzhMkwJaTU5apA</td>\n",
       "      <td>yfxDa8RFOvJPQh0rNtakHA</td>\n",
       "      <td>4.0</td>\n",
       "      <td>3.5</td>\n",
       "      <td>36.126194</td>\n",
       "      <td>-115.193445</td>\n",
       "      <td>3.74</td>\n",
       "      <td>959</td>\n",
       "      <td>0.045881</td>\n",
       "      <td>...</td>\n",
       "      <td>94743</td>\n",
       "      <td>0.0</td>\n",
       "      <td>0.0</td>\n",
       "      <td>0.000000</td>\n",
       "      <td>1.0</td>\n",
       "      <td>7.0</td>\n",
       "      <td>0.006416</td>\n",
       "      <td>0.0</td>\n",
       "      <td>0.0</td>\n",
       "      <td>0.0</td>\n",
       "    </tr>\n",
       "    <tr>\n",
       "      <th>1</th>\n",
       "      <td>1</td>\n",
       "      <td>cQU8IWVEJYcklBJbW9CzdQ</td>\n",
       "      <td>yfxDa8RFOvJPQh0rNtakHA</td>\n",
       "      <td>4.0</td>\n",
       "      <td>3.5</td>\n",
       "      <td>36.126194</td>\n",
       "      <td>-115.193445</td>\n",
       "      <td>3.59</td>\n",
       "      <td>289</td>\n",
       "      <td>0.179931</td>\n",
       "      <td>...</td>\n",
       "      <td>94743</td>\n",
       "      <td>0.0</td>\n",
       "      <td>0.0</td>\n",
       "      <td>0.000000</td>\n",
       "      <td>1.0</td>\n",
       "      <td>7.0</td>\n",
       "      <td>0.006416</td>\n",
       "      <td>0.0</td>\n",
       "      <td>0.0</td>\n",
       "      <td>0.0</td>\n",
       "    </tr>\n",
       "    <tr>\n",
       "      <th>2</th>\n",
       "      <td>2</td>\n",
       "      <td>GmQR50bIII7gDNRYEgfXfA</td>\n",
       "      <td>yfxDa8RFOvJPQh0rNtakHA</td>\n",
       "      <td>5.0</td>\n",
       "      <td>3.5</td>\n",
       "      <td>36.126194</td>\n",
       "      <td>-115.193445</td>\n",
       "      <td>4.07</td>\n",
       "      <td>1261</td>\n",
       "      <td>0.298176</td>\n",
       "      <td>...</td>\n",
       "      <td>94743</td>\n",
       "      <td>0.0</td>\n",
       "      <td>0.0</td>\n",
       "      <td>0.000000</td>\n",
       "      <td>1.0</td>\n",
       "      <td>7.0</td>\n",
       "      <td>0.006416</td>\n",
       "      <td>0.0</td>\n",
       "      <td>0.0</td>\n",
       "      <td>0.0</td>\n",
       "    </tr>\n",
       "    <tr>\n",
       "      <th>3</th>\n",
       "      <td>3</td>\n",
       "      <td>m4VAw2u8gHrANfXP7CW2mg</td>\n",
       "      <td>yfxDa8RFOvJPQh0rNtakHA</td>\n",
       "      <td>4.0</td>\n",
       "      <td>3.5</td>\n",
       "      <td>36.126194</td>\n",
       "      <td>-115.193445</td>\n",
       "      <td>4.03</td>\n",
       "      <td>58</td>\n",
       "      <td>0.103448</td>\n",
       "      <td>...</td>\n",
       "      <td>94743</td>\n",
       "      <td>1.0</td>\n",
       "      <td>5.0</td>\n",
       "      <td>0.046729</td>\n",
       "      <td>1.0</td>\n",
       "      <td>7.0</td>\n",
       "      <td>0.006416</td>\n",
       "      <td>0.0</td>\n",
       "      <td>0.0</td>\n",
       "      <td>0.0</td>\n",
       "    </tr>\n",
       "    <tr>\n",
       "      <th>4</th>\n",
       "      <td>4</td>\n",
       "      <td>mvK1pv-x0Z5rP4Hz9cWBWw</td>\n",
       "      <td>yfxDa8RFOvJPQh0rNtakHA</td>\n",
       "      <td>4.0</td>\n",
       "      <td>3.5</td>\n",
       "      <td>36.126194</td>\n",
       "      <td>-115.193445</td>\n",
       "      <td>3.88</td>\n",
       "      <td>1641</td>\n",
       "      <td>6.855576</td>\n",
       "      <td>...</td>\n",
       "      <td>94743</td>\n",
       "      <td>2.0</td>\n",
       "      <td>2.0</td>\n",
       "      <td>0.181818</td>\n",
       "      <td>1.0</td>\n",
       "      <td>7.0</td>\n",
       "      <td>0.006416</td>\n",
       "      <td>0.0</td>\n",
       "      <td>0.0</td>\n",
       "      <td>0.0</td>\n",
       "    </tr>\n",
       "  </tbody>\n",
       "</table>\n",
       "<p>5 rows × 59 columns</p>\n",
       "</div>"
      ],
      "text/plain": [
       "   Unnamed: 0                 user_id             business_id  rating  \\\n",
       "0           0  pmKnNkGVgzhMkwJaTU5apA  yfxDa8RFOvJPQh0rNtakHA     4.0   \n",
       "1           1  cQU8IWVEJYcklBJbW9CzdQ  yfxDa8RFOvJPQh0rNtakHA     4.0   \n",
       "2           2  GmQR50bIII7gDNRYEgfXfA  yfxDa8RFOvJPQh0rNtakHA     5.0   \n",
       "3           3  m4VAw2u8gHrANfXP7CW2mg  yfxDa8RFOvJPQh0rNtakHA     4.0   \n",
       "4           4  mvK1pv-x0Z5rP4Hz9cWBWw  yfxDa8RFOvJPQh0rNtakHA     4.0   \n",
       "\n",
       "   rounded_business_rating   latitude   longitude  average_user_rating  \\\n",
       "0                      3.5  36.126194 -115.193445                 3.74   \n",
       "1                      3.5  36.126194 -115.193445                 3.59   \n",
       "2                      3.5  36.126194 -115.193445                 4.07   \n",
       "3                      3.5  36.126194 -115.193445                 4.03   \n",
       "4                      3.5  36.126194 -115.193445                 3.88   \n",
       "\n",
       "   num_user_reviews  avg_user_compliments  ...  name_le max_user_likes  \\\n",
       "0               959              0.045881  ...    94743            0.0   \n",
       "1               289              0.179931  ...    94743            0.0   \n",
       "2              1261              0.298176  ...    94743            0.0   \n",
       "3                58              0.103448  ...    94743            1.0   \n",
       "4              1641              6.855576  ...    94743            2.0   \n",
       "\n",
       "  total_user_likes avg_user_likes max_business_likes  total_business_likes  \\\n",
       "0              0.0       0.000000                1.0                   7.0   \n",
       "1              0.0       0.000000                1.0                   7.0   \n",
       "2              0.0       0.000000                1.0                   7.0   \n",
       "3              5.0       0.046729                1.0                   7.0   \n",
       "4              2.0       0.181818                1.0                   7.0   \n",
       "\n",
       "  avg_business_likes max_ub_pair_likes  total_ub_pair_likes  avg_ub_pair_likes  \n",
       "0           0.006416               0.0                  0.0                0.0  \n",
       "1           0.006416               0.0                  0.0                0.0  \n",
       "2           0.006416               0.0                  0.0                0.0  \n",
       "3           0.006416               0.0                  0.0                0.0  \n",
       "4           0.006416               0.0                  0.0                0.0  \n",
       "\n",
       "[5 rows x 59 columns]"
      ]
     },
     "execution_count": 3,
     "metadata": {},
     "output_type": "execute_result"
    }
   ],
   "source": [
    "train_df.head(5)"
   ]
  },
  {
   "cell_type": "code",
   "execution_count": 4,
   "metadata": {},
   "outputs": [
    {
     "data": {
      "text/html": [
       "<div>\n",
       "<style scoped>\n",
       "    .dataframe tbody tr th:only-of-type {\n",
       "        vertical-align: middle;\n",
       "    }\n",
       "\n",
       "    .dataframe tbody tr th {\n",
       "        vertical-align: top;\n",
       "    }\n",
       "\n",
       "    .dataframe thead th {\n",
       "        text-align: right;\n",
       "    }\n",
       "</style>\n",
       "<table border=\"1\" class=\"dataframe\">\n",
       "  <thead>\n",
       "    <tr style=\"text-align: right;\">\n",
       "      <th></th>\n",
       "      <th>user_id</th>\n",
       "      <th>business_id</th>\n",
       "      <th>rating</th>\n",
       "    </tr>\n",
       "  </thead>\n",
       "  <tbody>\n",
       "    <tr>\n",
       "      <th>0</th>\n",
       "      <td>m5b84-nPPVNLlDtZyVGZ3w</td>\n",
       "      <td>tWdp26XQEJqJGnRmFVJQxA</td>\n",
       "      <td>4.0</td>\n",
       "    </tr>\n",
       "    <tr>\n",
       "      <th>1</th>\n",
       "      <td>m5b84-nPPVNLlDtZyVGZ3w</td>\n",
       "      <td>qy4WKXTBkqD4zX0rohYF8Q</td>\n",
       "      <td>4.0</td>\n",
       "    </tr>\n",
       "    <tr>\n",
       "      <th>2</th>\n",
       "      <td>m5b84-nPPVNLlDtZyVGZ3w</td>\n",
       "      <td>478TIlfHXfT3wvww54QsPg</td>\n",
       "      <td>3.0</td>\n",
       "    </tr>\n",
       "    <tr>\n",
       "      <th>3</th>\n",
       "      <td>m5b84-nPPVNLlDtZyVGZ3w</td>\n",
       "      <td>SxvKjtbq5qRlFoXrU8Bo9Q</td>\n",
       "      <td>2.0</td>\n",
       "    </tr>\n",
       "    <tr>\n",
       "      <th>4</th>\n",
       "      <td>m5b84-nPPVNLlDtZyVGZ3w</td>\n",
       "      <td>ErTB7R4rJNUUV8nsUVG26Q</td>\n",
       "      <td>4.0</td>\n",
       "    </tr>\n",
       "    <tr>\n",
       "      <th>...</th>\n",
       "      <td>...</td>\n",
       "      <td>...</td>\n",
       "      <td>...</td>\n",
       "    </tr>\n",
       "    <tr>\n",
       "      <th>142039</th>\n",
       "      <td>iCqpb2C3TZrB5gdMASf8LQ</td>\n",
       "      <td>N8D-5-fW7EkBdKjNYGhu0A</td>\n",
       "      <td>5.0</td>\n",
       "    </tr>\n",
       "    <tr>\n",
       "      <th>142040</th>\n",
       "      <td>iCqpb2C3TZrB5gdMASf8LQ</td>\n",
       "      <td>dT9316C_MJjATvv7GByROg</td>\n",
       "      <td>4.0</td>\n",
       "    </tr>\n",
       "    <tr>\n",
       "      <th>142041</th>\n",
       "      <td>iCqpb2C3TZrB5gdMASf8LQ</td>\n",
       "      <td>SAIrNOB4PtDA4gziNCucwg</td>\n",
       "      <td>4.0</td>\n",
       "    </tr>\n",
       "    <tr>\n",
       "      <th>142042</th>\n",
       "      <td>iCqpb2C3TZrB5gdMASf8LQ</td>\n",
       "      <td>K7lWdNUhCbcnEvI0NhGewg</td>\n",
       "      <td>4.0</td>\n",
       "    </tr>\n",
       "    <tr>\n",
       "      <th>142043</th>\n",
       "      <td>iCqpb2C3TZrB5gdMASf8LQ</td>\n",
       "      <td>Wxxvi3LZbHNIDwJ-ZimtnA</td>\n",
       "      <td>5.0</td>\n",
       "    </tr>\n",
       "  </tbody>\n",
       "</table>\n",
       "<p>142044 rows × 3 columns</p>\n",
       "</div>"
      ],
      "text/plain": [
       "                       user_id             business_id  rating\n",
       "0       m5b84-nPPVNLlDtZyVGZ3w  tWdp26XQEJqJGnRmFVJQxA     4.0\n",
       "1       m5b84-nPPVNLlDtZyVGZ3w  qy4WKXTBkqD4zX0rohYF8Q     4.0\n",
       "2       m5b84-nPPVNLlDtZyVGZ3w  478TIlfHXfT3wvww54QsPg     3.0\n",
       "3       m5b84-nPPVNLlDtZyVGZ3w  SxvKjtbq5qRlFoXrU8Bo9Q     2.0\n",
       "4       m5b84-nPPVNLlDtZyVGZ3w  ErTB7R4rJNUUV8nsUVG26Q     4.0\n",
       "...                        ...                     ...     ...\n",
       "142039  iCqpb2C3TZrB5gdMASf8LQ  N8D-5-fW7EkBdKjNYGhu0A     5.0\n",
       "142040  iCqpb2C3TZrB5gdMASf8LQ  dT9316C_MJjATvv7GByROg     4.0\n",
       "142041  iCqpb2C3TZrB5gdMASf8LQ  SAIrNOB4PtDA4gziNCucwg     4.0\n",
       "142042  iCqpb2C3TZrB5gdMASf8LQ  K7lWdNUhCbcnEvI0NhGewg     4.0\n",
       "142043  iCqpb2C3TZrB5gdMASf8LQ  Wxxvi3LZbHNIDwJ-ZimtnA     5.0\n",
       "\n",
       "[142044 rows x 3 columns]"
      ]
     },
     "execution_count": 4,
     "metadata": {},
     "output_type": "execute_result"
    }
   ],
   "source": [
    "test_df_with_labels = pd.read_csv('y_test.csv')\n",
    "test_df_with_labels"
   ]
  },
  {
   "cell_type": "code",
   "execution_count": 5,
   "metadata": {},
   "outputs": [
    {
     "data": {
      "text/html": [
       "<div>\n",
       "<style scoped>\n",
       "    .dataframe tbody tr th:only-of-type {\n",
       "        vertical-align: middle;\n",
       "    }\n",
       "\n",
       "    .dataframe tbody tr th {\n",
       "        vertical-align: top;\n",
       "    }\n",
       "\n",
       "    .dataframe thead th {\n",
       "        text-align: right;\n",
       "    }\n",
       "</style>\n",
       "<table border=\"1\" class=\"dataframe\">\n",
       "  <thead>\n",
       "    <tr style=\"text-align: right;\">\n",
       "      <th></th>\n",
       "      <th>Unnamed: 0</th>\n",
       "      <th>user_id</th>\n",
       "      <th>business_id</th>\n",
       "      <th>rounded_business_rating</th>\n",
       "      <th>latitude</th>\n",
       "      <th>longitude</th>\n",
       "      <th>average_user_rating</th>\n",
       "      <th>num_user_reviews</th>\n",
       "      <th>avg_user_compliments</th>\n",
       "      <th>reviews_per_year</th>\n",
       "      <th>...</th>\n",
       "      <th>max_user_likes</th>\n",
       "      <th>total_user_likes</th>\n",
       "      <th>avg_user_likes</th>\n",
       "      <th>max_business_likes</th>\n",
       "      <th>total_business_likes</th>\n",
       "      <th>avg_business_likes</th>\n",
       "      <th>max_ub_pair_likes</th>\n",
       "      <th>total_ub_pair_likes</th>\n",
       "      <th>avg_ub_pair_likes</th>\n",
       "      <th>rating</th>\n",
       "    </tr>\n",
       "  </thead>\n",
       "  <tbody>\n",
       "    <tr>\n",
       "      <th>0</th>\n",
       "      <td>0</td>\n",
       "      <td>NCRGj36ihdwX-VUCYEX41g</td>\n",
       "      <td>LNGBEEelQx4zbfWnlc66cw</td>\n",
       "      <td>4.0</td>\n",
       "      <td>35.965529</td>\n",
       "      <td>-115.168686</td>\n",
       "      <td>4.13</td>\n",
       "      <td>317</td>\n",
       "      <td>0.378549</td>\n",
       "      <td>42.742889</td>\n",
       "      <td>...</td>\n",
       "      <td>0.0</td>\n",
       "      <td>0.0</td>\n",
       "      <td>0.000000</td>\n",
       "      <td>2.0</td>\n",
       "      <td>11.0</td>\n",
       "      <td>0.012373</td>\n",
       "      <td>0.0</td>\n",
       "      <td>0.0</td>\n",
       "      <td>0.0</td>\n",
       "      <td>2.0</td>\n",
       "    </tr>\n",
       "    <tr>\n",
       "      <th>1</th>\n",
       "      <td>1</td>\n",
       "      <td>mySDXsBhY3u0yI-G2oVDkA</td>\n",
       "      <td>LNGBEEelQx4zbfWnlc66cw</td>\n",
       "      <td>4.0</td>\n",
       "      <td>35.965529</td>\n",
       "      <td>-115.168686</td>\n",
       "      <td>2.73</td>\n",
       "      <td>239</td>\n",
       "      <td>0.200837</td>\n",
       "      <td>23.469196</td>\n",
       "      <td>...</td>\n",
       "      <td>0.0</td>\n",
       "      <td>0.0</td>\n",
       "      <td>0.000000</td>\n",
       "      <td>2.0</td>\n",
       "      <td>11.0</td>\n",
       "      <td>0.012373</td>\n",
       "      <td>0.0</td>\n",
       "      <td>0.0</td>\n",
       "      <td>0.0</td>\n",
       "      <td>2.0</td>\n",
       "    </tr>\n",
       "    <tr>\n",
       "      <th>2</th>\n",
       "      <td>2</td>\n",
       "      <td>wLc6l8v7O9hXjrDi3Q7tyw</td>\n",
       "      <td>LNGBEEelQx4zbfWnlc66cw</td>\n",
       "      <td>4.0</td>\n",
       "      <td>35.965529</td>\n",
       "      <td>-115.168686</td>\n",
       "      <td>3.96</td>\n",
       "      <td>102</td>\n",
       "      <td>0.666667</td>\n",
       "      <td>11.978764</td>\n",
       "      <td>...</td>\n",
       "      <td>1.0</td>\n",
       "      <td>1.0</td>\n",
       "      <td>0.004808</td>\n",
       "      <td>2.0</td>\n",
       "      <td>11.0</td>\n",
       "      <td>0.012373</td>\n",
       "      <td>0.0</td>\n",
       "      <td>0.0</td>\n",
       "      <td>0.0</td>\n",
       "      <td>5.0</td>\n",
       "    </tr>\n",
       "    <tr>\n",
       "      <th>3</th>\n",
       "      <td>3</td>\n",
       "      <td>hnhs-uzv_eoE6Pq8nXyufA</td>\n",
       "      <td>LNGBEEelQx4zbfWnlc66cw</td>\n",
       "      <td>4.0</td>\n",
       "      <td>35.965529</td>\n",
       "      <td>-115.168686</td>\n",
       "      <td>3.84</td>\n",
       "      <td>203</td>\n",
       "      <td>0.394089</td>\n",
       "      <td>25.142518</td>\n",
       "      <td>...</td>\n",
       "      <td>0.0</td>\n",
       "      <td>0.0</td>\n",
       "      <td>0.000000</td>\n",
       "      <td>2.0</td>\n",
       "      <td>11.0</td>\n",
       "      <td>0.012373</td>\n",
       "      <td>0.0</td>\n",
       "      <td>0.0</td>\n",
       "      <td>0.0</td>\n",
       "      <td>5.0</td>\n",
       "    </tr>\n",
       "    <tr>\n",
       "      <th>4</th>\n",
       "      <td>4</td>\n",
       "      <td>Gr-MqCunME2K_KmsAwjpTA</td>\n",
       "      <td>LNGBEEelQx4zbfWnlc66cw</td>\n",
       "      <td>4.0</td>\n",
       "      <td>35.965529</td>\n",
       "      <td>-115.168686</td>\n",
       "      <td>4.12</td>\n",
       "      <td>336</td>\n",
       "      <td>1.309524</td>\n",
       "      <td>37.922078</td>\n",
       "      <td>...</td>\n",
       "      <td>1.0</td>\n",
       "      <td>2.0</td>\n",
       "      <td>0.080000</td>\n",
       "      <td>2.0</td>\n",
       "      <td>11.0</td>\n",
       "      <td>0.012373</td>\n",
       "      <td>0.0</td>\n",
       "      <td>0.0</td>\n",
       "      <td>0.0</td>\n",
       "      <td>5.0</td>\n",
       "    </tr>\n",
       "    <tr>\n",
       "      <th>...</th>\n",
       "      <td>...</td>\n",
       "      <td>...</td>\n",
       "      <td>...</td>\n",
       "      <td>...</td>\n",
       "      <td>...</td>\n",
       "      <td>...</td>\n",
       "      <td>...</td>\n",
       "      <td>...</td>\n",
       "      <td>...</td>\n",
       "      <td>...</td>\n",
       "      <td>...</td>\n",
       "      <td>...</td>\n",
       "      <td>...</td>\n",
       "      <td>...</td>\n",
       "      <td>...</td>\n",
       "      <td>...</td>\n",
       "      <td>...</td>\n",
       "      <td>...</td>\n",
       "      <td>...</td>\n",
       "      <td>...</td>\n",
       "      <td>...</td>\n",
       "    </tr>\n",
       "    <tr>\n",
       "      <th>142039</th>\n",
       "      <td>142039</td>\n",
       "      <td>NTuvVb-ZwQ_rFn6W9Krm7A</td>\n",
       "      <td>a9WV4-QcQfkUcOwUMFVhGw</td>\n",
       "      <td>4.5</td>\n",
       "      <td>36.076360</td>\n",
       "      <td>-115.081695</td>\n",
       "      <td>3.92</td>\n",
       "      <td>430</td>\n",
       "      <td>0.218605</td>\n",
       "      <td>54.973730</td>\n",
       "      <td>...</td>\n",
       "      <td>0.0</td>\n",
       "      <td>0.0</td>\n",
       "      <td>0.000000</td>\n",
       "      <td>0.0</td>\n",
       "      <td>0.0</td>\n",
       "      <td>0.000000</td>\n",
       "      <td>0.0</td>\n",
       "      <td>0.0</td>\n",
       "      <td>0.0</td>\n",
       "      <td>5.0</td>\n",
       "    </tr>\n",
       "    <tr>\n",
       "      <th>142040</th>\n",
       "      <td>142040</td>\n",
       "      <td>qPganFH_fTXrP9r3kXf6YQ</td>\n",
       "      <td>aapwKXeDH_hsjthI13DI0w</td>\n",
       "      <td>4.0</td>\n",
       "      <td>45.572295</td>\n",
       "      <td>-73.754008</td>\n",
       "      <td>3.53</td>\n",
       "      <td>145</td>\n",
       "      <td>0.013793</td>\n",
       "      <td>28.968254</td>\n",
       "      <td>...</td>\n",
       "      <td>0.0</td>\n",
       "      <td>0.0</td>\n",
       "      <td>0.000000</td>\n",
       "      <td>0.0</td>\n",
       "      <td>0.0</td>\n",
       "      <td>0.000000</td>\n",
       "      <td>0.0</td>\n",
       "      <td>0.0</td>\n",
       "      <td>0.0</td>\n",
       "      <td>4.0</td>\n",
       "    </tr>\n",
       "    <tr>\n",
       "      <th>142041</th>\n",
       "      <td>142041</td>\n",
       "      <td>zbRjeEkON8EXFk_VrcTAiA</td>\n",
       "      <td>QSMWY0fXT19xLfSVe9nXJg</td>\n",
       "      <td>1.5</td>\n",
       "      <td>36.078242</td>\n",
       "      <td>-115.093153</td>\n",
       "      <td>3.29</td>\n",
       "      <td>137</td>\n",
       "      <td>0.043796</td>\n",
       "      <td>13.588315</td>\n",
       "      <td>...</td>\n",
       "      <td>0.0</td>\n",
       "      <td>0.0</td>\n",
       "      <td>0.000000</td>\n",
       "      <td>0.0</td>\n",
       "      <td>0.0</td>\n",
       "      <td>0.000000</td>\n",
       "      <td>0.0</td>\n",
       "      <td>0.0</td>\n",
       "      <td>0.0</td>\n",
       "      <td>1.0</td>\n",
       "    </tr>\n",
       "    <tr>\n",
       "      <th>142042</th>\n",
       "      <td>142042</td>\n",
       "      <td>FTsRfaVbDUB6Sc6pL-J80w</td>\n",
       "      <td>oZJHJieidHz-zuGL7lBMpg</td>\n",
       "      <td>4.5</td>\n",
       "      <td>36.239382</td>\n",
       "      <td>-115.203632</td>\n",
       "      <td>3.26</td>\n",
       "      <td>53</td>\n",
       "      <td>0.000000</td>\n",
       "      <td>8.291899</td>\n",
       "      <td>...</td>\n",
       "      <td>0.0</td>\n",
       "      <td>0.0</td>\n",
       "      <td>0.000000</td>\n",
       "      <td>0.0</td>\n",
       "      <td>0.0</td>\n",
       "      <td>0.000000</td>\n",
       "      <td>0.0</td>\n",
       "      <td>0.0</td>\n",
       "      <td>0.0</td>\n",
       "      <td>1.0</td>\n",
       "    </tr>\n",
       "    <tr>\n",
       "      <th>142043</th>\n",
       "      <td>142043</td>\n",
       "      <td>3Z70d8MHB6WhlMpIz9YdZA</td>\n",
       "      <td>xu3JbicQsPv1lay0cT6tRw</td>\n",
       "      <td>4.5</td>\n",
       "      <td>41.434184</td>\n",
       "      <td>-81.536806</td>\n",
       "      <td>4.28</td>\n",
       "      <td>121</td>\n",
       "      <td>0.115702</td>\n",
       "      <td>16.856870</td>\n",
       "      <td>...</td>\n",
       "      <td>0.0</td>\n",
       "      <td>0.0</td>\n",
       "      <td>0.000000</td>\n",
       "      <td>0.0</td>\n",
       "      <td>0.0</td>\n",
       "      <td>0.000000</td>\n",
       "      <td>0.0</td>\n",
       "      <td>0.0</td>\n",
       "      <td>0.0</td>\n",
       "      <td>5.0</td>\n",
       "    </tr>\n",
       "  </tbody>\n",
       "</table>\n",
       "<p>142044 rows × 59 columns</p>\n",
       "</div>"
      ],
      "text/plain": [
       "        Unnamed: 0                 user_id             business_id  \\\n",
       "0                0  NCRGj36ihdwX-VUCYEX41g  LNGBEEelQx4zbfWnlc66cw   \n",
       "1                1  mySDXsBhY3u0yI-G2oVDkA  LNGBEEelQx4zbfWnlc66cw   \n",
       "2                2  wLc6l8v7O9hXjrDi3Q7tyw  LNGBEEelQx4zbfWnlc66cw   \n",
       "3                3  hnhs-uzv_eoE6Pq8nXyufA  LNGBEEelQx4zbfWnlc66cw   \n",
       "4                4  Gr-MqCunME2K_KmsAwjpTA  LNGBEEelQx4zbfWnlc66cw   \n",
       "...            ...                     ...                     ...   \n",
       "142039      142039  NTuvVb-ZwQ_rFn6W9Krm7A  a9WV4-QcQfkUcOwUMFVhGw   \n",
       "142040      142040  qPganFH_fTXrP9r3kXf6YQ  aapwKXeDH_hsjthI13DI0w   \n",
       "142041      142041  zbRjeEkON8EXFk_VrcTAiA  QSMWY0fXT19xLfSVe9nXJg   \n",
       "142042      142042  FTsRfaVbDUB6Sc6pL-J80w  oZJHJieidHz-zuGL7lBMpg   \n",
       "142043      142043  3Z70d8MHB6WhlMpIz9YdZA  xu3JbicQsPv1lay0cT6tRw   \n",
       "\n",
       "        rounded_business_rating   latitude   longitude  average_user_rating  \\\n",
       "0                           4.0  35.965529 -115.168686                 4.13   \n",
       "1                           4.0  35.965529 -115.168686                 2.73   \n",
       "2                           4.0  35.965529 -115.168686                 3.96   \n",
       "3                           4.0  35.965529 -115.168686                 3.84   \n",
       "4                           4.0  35.965529 -115.168686                 4.12   \n",
       "...                         ...        ...         ...                  ...   \n",
       "142039                      4.5  36.076360 -115.081695                 3.92   \n",
       "142040                      4.0  45.572295  -73.754008                 3.53   \n",
       "142041                      1.5  36.078242 -115.093153                 3.29   \n",
       "142042                      4.5  36.239382 -115.203632                 3.26   \n",
       "142043                      4.5  41.434184  -81.536806                 4.28   \n",
       "\n",
       "        num_user_reviews  avg_user_compliments  reviews_per_year  ...  \\\n",
       "0                    317              0.378549         42.742889  ...   \n",
       "1                    239              0.200837         23.469196  ...   \n",
       "2                    102              0.666667         11.978764  ...   \n",
       "3                    203              0.394089         25.142518  ...   \n",
       "4                    336              1.309524         37.922078  ...   \n",
       "...                  ...                   ...               ...  ...   \n",
       "142039               430              0.218605         54.973730  ...   \n",
       "142040               145              0.013793         28.968254  ...   \n",
       "142041               137              0.043796         13.588315  ...   \n",
       "142042                53              0.000000          8.291899  ...   \n",
       "142043               121              0.115702         16.856870  ...   \n",
       "\n",
       "       max_user_likes total_user_likes avg_user_likes max_business_likes  \\\n",
       "0                 0.0              0.0       0.000000                2.0   \n",
       "1                 0.0              0.0       0.000000                2.0   \n",
       "2                 1.0              1.0       0.004808                2.0   \n",
       "3                 0.0              0.0       0.000000                2.0   \n",
       "4                 1.0              2.0       0.080000                2.0   \n",
       "...               ...              ...            ...                ...   \n",
       "142039            0.0              0.0       0.000000                0.0   \n",
       "142040            0.0              0.0       0.000000                0.0   \n",
       "142041            0.0              0.0       0.000000                0.0   \n",
       "142042            0.0              0.0       0.000000                0.0   \n",
       "142043            0.0              0.0       0.000000                0.0   \n",
       "\n",
       "        total_business_likes avg_business_likes max_ub_pair_likes  \\\n",
       "0                       11.0           0.012373               0.0   \n",
       "1                       11.0           0.012373               0.0   \n",
       "2                       11.0           0.012373               0.0   \n",
       "3                       11.0           0.012373               0.0   \n",
       "4                       11.0           0.012373               0.0   \n",
       "...                      ...                ...               ...   \n",
       "142039                   0.0           0.000000               0.0   \n",
       "142040                   0.0           0.000000               0.0   \n",
       "142041                   0.0           0.000000               0.0   \n",
       "142042                   0.0           0.000000               0.0   \n",
       "142043                   0.0           0.000000               0.0   \n",
       "\n",
       "        total_ub_pair_likes  avg_ub_pair_likes  rating  \n",
       "0                       0.0                0.0     2.0  \n",
       "1                       0.0                0.0     2.0  \n",
       "2                       0.0                0.0     5.0  \n",
       "3                       0.0                0.0     5.0  \n",
       "4                       0.0                0.0     5.0  \n",
       "...                     ...                ...     ...  \n",
       "142039                  0.0                0.0     5.0  \n",
       "142040                  0.0                0.0     4.0  \n",
       "142041                  0.0                0.0     1.0  \n",
       "142042                  0.0                0.0     1.0  \n",
       "142043                  0.0                0.0     5.0  \n",
       "\n",
       "[142044 rows x 59 columns]"
      ]
     },
     "execution_count": 5,
     "metadata": {},
     "output_type": "execute_result"
    }
   ],
   "source": [
    "final_test_df = pd.merge(test_df, test_df_with_labels, on=['user_id', 'business_id'])\n",
    "final_test_df"
   ]
  },
  {
   "cell_type": "code",
   "execution_count": 6,
   "metadata": {},
   "outputs": [
    {
     "data": {
      "text/plain": [
       "Index(['Unnamed: 0', 'user_id', 'business_id', 'rounded_business_rating',\n",
       "       'latitude', 'longitude', 'average_user_rating', 'num_user_reviews',\n",
       "       'avg_user_compliments', 'reviews_per_year', 'city', 'state', 'name',\n",
       "       'attributes', 'review_count', 'city_state', 'user_business_pair',\n",
       "       'price_range', 'bike_parking', 'business_accepts_credit_cards',\n",
       "       'good_for_kids', 'has_TV', 'outdoor_seating', 'restaurants_delivery',\n",
       "       'restaurants_good_for_groups', 'restaurants_reservations',\n",
       "       'restaurants_take_out', 'restaurants_counter_service',\n",
       "       'by_appointment_only', 'wheelchair_accessible', 'open_24_hours',\n",
       "       'dogs_allowed', 'caters', 'drive_thru', 'coat_check',\n",
       "       'good_for_dancing', 'restaurants_table_service', 'happy_hour',\n",
       "       'business_accepts_bitcoin', 'garage', 'street', 'validated', 'lot',\n",
       "       'valet', 'lunch', 'dinner', 'casual', 'city_state_le', 'name_le',\n",
       "       'max_user_likes', 'total_user_likes', 'avg_user_likes',\n",
       "       'max_business_likes', 'total_business_likes', 'avg_business_likes',\n",
       "       'max_ub_pair_likes', 'total_ub_pair_likes', 'avg_ub_pair_likes',\n",
       "       'rating'],\n",
       "      dtype='object')"
      ]
     },
     "execution_count": 6,
     "metadata": {},
     "output_type": "execute_result"
    }
   ],
   "source": [
    "final_test_df.keys()"
   ]
  },
  {
   "cell_type": "code",
   "execution_count": 8,
   "metadata": {},
   "outputs": [
    {
     "name": "stdout",
     "output_type": "stream",
     "text": [
      "Train RMSE: 0.9630116041852984; Test RMSE: 0.9798764280445167\n"
     ]
    }
   ],
   "source": [
    "X_train = train_df[['rounded_business_rating', 'latitude', 'longitude', 'average_user_rating', 'num_user_reviews', 'avg_user_compliments', \\\n",
    "    'reviews_per_year', 'review_count', 'price_range', 'bike_parking', 'good_for_kids', 'outdoor_seating', 'restaurants_delivery', \\\n",
    "        'restaurants_take_out', 'by_appointment_only', 'wheelchair_accessible', 'dogs_allowed', 'caters', 'drive_thru', 'coat_check', \\\n",
    "            'restaurants_table_service', 'business_accepts_bitcoin', 'garage', 'street', 'lot', 'valet', 'lunch', 'dinner', 'casual', \\\n",
    "                'city_state_le', 'name_le', 'max_user_likes', 'total_user_likes', 'avg_user_likes', 'max_business_likes', \\\n",
    "                    'total_business_likes', 'avg_business_likes', 'avg_ub_pair_likes']]\n",
    "y_train = train_df['rating']\n",
    "\n",
    "xgb = XGBRegressor(objective='reg:linear', base_score=0.5, booster='gbtree', colsample_bylevel=1, colsample_bynode=1, colsample_bytree=1, \\\n",
    "    gamma=0, gpu_id=1, interaction_constraints='', learning_rate=0.300000012, max_delta_step=0, max_depth=6, min_child_weight=1, \\\n",
    "        n_jobs=8, num_parallel_tree=1, random_state=0, reg_alpha=0, reg_lambda=1, scale_pos_weight=1, subsample=1, \\\n",
    "            tree_method='exact', validate_parameters=1, verbosity=None).fit(X_train, y_train)\n",
    "\n",
    "y_pred_train = list(xgb.predict(X_train))\n",
    "train_rmse = mean_squared_error(list(y_train), y_pred_train, squared=False)\n",
    "\n",
    "X_test = final_test_df[['rounded_business_rating', 'latitude', 'longitude', 'average_user_rating', 'num_user_reviews', 'avg_user_compliments', \\\n",
    "    'reviews_per_year', 'review_count', 'price_range', 'bike_parking', 'good_for_kids', 'outdoor_seating', 'restaurants_delivery', \\\n",
    "        'restaurants_take_out', 'by_appointment_only', 'wheelchair_accessible', 'dogs_allowed', 'caters', 'drive_thru', 'coat_check', \\\n",
    "            'restaurants_table_service', 'business_accepts_bitcoin', 'garage', 'street', 'lot', 'valet', 'lunch', 'dinner', 'casual', \\\n",
    "                'city_state_le', 'name_le', 'max_user_likes', 'total_user_likes', 'avg_user_likes', 'max_business_likes', \\\n",
    "                    'total_business_likes', 'avg_business_likes', 'avg_ub_pair_likes']]\n",
    "y_test = final_test_df['rating']\n",
    "y_pred_test = list(xgb.predict(X_test))\n",
    "test_rmse = mean_squared_error(list(y_test), y_pred_test, squared=False)\n",
    "\n",
    "print(f'Train RMSE: {train_rmse}; Test RMSE: {test_rmse}')"
   ]
  },
  {
   "cell_type": "code",
   "execution_count": 9,
   "metadata": {},
   "outputs": [],
   "source": [
    "space={'learning_rate': hp.uniform(\"learning_rate\", 0.01, 0.5),\n",
    "    'max_depth': hp.quniform(\"max_depth\", 3, 18, 1),\n",
    "    'gamma': hp.uniform ('gamma', 0, 9),\n",
    "    'reg_alpha': hp.quniform('reg_alpha', 0, 100, 1),\n",
    "    'reg_lambda': hp.uniform('reg_lambda', 0, 100),\n",
    "    'colsample_bytree': hp.uniform('colsample_bytree', 0.5, 1),\n",
    "    'min_child_weight': hp.quniform('min_child_weight', 0, 10, 1),\n",
    "    'n_estimators': hp.quniform(\"n_estimators\", 100, 1000, 1),\n",
    "    'subsample': hp.uniform(\"subsample\", 0.5, 1),\n",
    "    'random_state': 0\n",
    "}\n",
    "\n",
    "def objective(space):\n",
    "    clf = XGBRegressor(objective='reg:linear', base_score=0.5, booster='gbtree', colsample_bylevel=1, colsample_bynode=1, \\\n",
    "        gpu_id=1, interaction_constraints='', max_delta_step=0, \\\n",
    "            n_jobs=8, num_parallel_tree=1, random_state=0, scale_pos_weight=1, subsample=space['subsample'], \\\n",
    "                tree_method='exact', validate_parameters=1, verbosity=None,\n",
    "                    n_estimators=int(space['n_estimators']), max_depth=int(space['max_depth']), gamma=space['gamma'],\n",
    "                        reg_alpha=int(space['reg_alpha']), min_child_weight=int(space['min_child_weight']), reg_lambda=space['reg_lambda'],\n",
    "                            colsample_bytree=space['colsample_bytree'], learning_rate=space['learning_rate'])\n",
    "    \n",
    "    evaluation = [( X_train, y_train), ( X_test, y_test)]\n",
    "    \n",
    "    clf.fit(X_train, y_train,\n",
    "            eval_set=evaluation, eval_metric=\"rmse\",\n",
    "            early_stopping_rounds=10,verbose=False)\n",
    "    \n",
    "\n",
    "    pred = clf.predict(X_test)\n",
    "    test_rmse = mean_squared_error(y_test, pred, squared=False)\n",
    "    print (\"Test RMSE:\", test_rmse)\n",
    "    return {'loss': test_rmse, 'status': STATUS_OK }"
   ]
  },
  {
   "cell_type": "code",
   "execution_count": 10,
   "metadata": {},
   "outputs": [
    {
     "name": "stdout",
     "output_type": "stream",
     "text": [
      "Test RMSE:                                            \n",
      "0.9810786253456674                                    \n",
      "Test RMSE:                                                                      \n",
      "0.9788805453822071                                                              \n",
      "Test RMSE:                                                                      \n",
      "0.9803092378124538                                                              \n",
      "Test RMSE:                                                                       \n",
      "0.9812425161408153                                                               \n",
      "Test RMSE:                                                                       \n",
      "0.9807293087442007                                                               \n",
      "Test RMSE:                                                                       \n",
      "0.9794868355102607                                                              \n",
      "Test RMSE:                                                                       \n",
      "0.9791808552618096                                                               \n",
      "Test RMSE:                                                                       \n",
      "0.9802719497512143                                                               \n",
      "Test RMSE:                                                                       \n",
      "0.9799165589400307                                                               \n",
      "Test RMSE:                                                                       \n",
      "0.977626823690786                                                                \n",
      "Test RMSE:                                                                       \n",
      "0.9786173379840717                                                               \n",
      "Test RMSE:                                                                       \n",
      "0.9802921577663078                                                               \n",
      "Test RMSE:                                                                       \n",
      "0.9805688145055177                                                               \n",
      "Test RMSE:                                                                       \n",
      "0.9796914947828592                                                               \n",
      "Test RMSE:                                                                       \n",
      "0.979825454495533                                                                \n",
      "Test RMSE:                                                                       \n",
      "0.9807572044695593                                                               \n",
      " 64%|██████▍   | 16/25 [41:34<23:22, 155.88s/trial, best loss: 0.977626823690786]\n"
     ]
    },
    {
     "ename": "KeyboardInterrupt",
     "evalue": "",
     "output_type": "error",
     "traceback": [
      "\u001b[0;31m---------------------------------------------------------------------------\u001b[0m",
      "\u001b[0;31mKeyboardInterrupt\u001b[0m                         Traceback (most recent call last)",
      "\u001b[0;32m<ipython-input-10-732a8d821391>\u001b[0m in \u001b[0;36m<module>\u001b[0;34m\u001b[0m\n\u001b[1;32m      5\u001b[0m                         \u001b[0malgo\u001b[0m \u001b[0;34m=\u001b[0m \u001b[0mtpe\u001b[0m\u001b[0;34m.\u001b[0m\u001b[0msuggest\u001b[0m\u001b[0;34m,\u001b[0m\u001b[0;34m\u001b[0m\u001b[0;34m\u001b[0m\u001b[0m\n\u001b[1;32m      6\u001b[0m                         \u001b[0mmax_evals\u001b[0m \u001b[0;34m=\u001b[0m \u001b[0;36m25\u001b[0m\u001b[0;34m,\u001b[0m\u001b[0;34m\u001b[0m\u001b[0;34m\u001b[0m\u001b[0m\n\u001b[0;32m----> 7\u001b[0;31m                         trials = trials)\n\u001b[0m",
      "\u001b[0;32m~/opt/anaconda3/envs/dsci553/lib/python3.6/site-packages/hyperopt/fmin.py\u001b[0m in \u001b[0;36mfmin\u001b[0;34m(fn, space, algo, max_evals, timeout, loss_threshold, trials, rstate, allow_trials_fmin, pass_expr_memo_ctrl, catch_eval_exceptions, verbose, return_argmin, points_to_evaluate, max_queue_len, show_progressbar, early_stop_fn, trials_save_file)\u001b[0m\n\u001b[1;32m    553\u001b[0m             \u001b[0mshow_progressbar\u001b[0m\u001b[0;34m=\u001b[0m\u001b[0mshow_progressbar\u001b[0m\u001b[0;34m,\u001b[0m\u001b[0;34m\u001b[0m\u001b[0;34m\u001b[0m\u001b[0m\n\u001b[1;32m    554\u001b[0m             \u001b[0mearly_stop_fn\u001b[0m\u001b[0;34m=\u001b[0m\u001b[0mearly_stop_fn\u001b[0m\u001b[0;34m,\u001b[0m\u001b[0;34m\u001b[0m\u001b[0;34m\u001b[0m\u001b[0m\n\u001b[0;32m--> 555\u001b[0;31m             \u001b[0mtrials_save_file\u001b[0m\u001b[0;34m=\u001b[0m\u001b[0mtrials_save_file\u001b[0m\u001b[0;34m,\u001b[0m\u001b[0;34m\u001b[0m\u001b[0;34m\u001b[0m\u001b[0m\n\u001b[0m\u001b[1;32m    556\u001b[0m         )\n\u001b[1;32m    557\u001b[0m \u001b[0;34m\u001b[0m\u001b[0m\n",
      "\u001b[0;32m~/opt/anaconda3/envs/dsci553/lib/python3.6/site-packages/hyperopt/base.py\u001b[0m in \u001b[0;36mfmin\u001b[0;34m(self, fn, space, algo, max_evals, timeout, loss_threshold, max_queue_len, rstate, verbose, pass_expr_memo_ctrl, catch_eval_exceptions, return_argmin, show_progressbar, early_stop_fn, trials_save_file)\u001b[0m\n\u001b[1;32m    686\u001b[0m             \u001b[0mshow_progressbar\u001b[0m\u001b[0;34m=\u001b[0m\u001b[0mshow_progressbar\u001b[0m\u001b[0;34m,\u001b[0m\u001b[0;34m\u001b[0m\u001b[0;34m\u001b[0m\u001b[0m\n\u001b[1;32m    687\u001b[0m             \u001b[0mearly_stop_fn\u001b[0m\u001b[0;34m=\u001b[0m\u001b[0mearly_stop_fn\u001b[0m\u001b[0;34m,\u001b[0m\u001b[0;34m\u001b[0m\u001b[0;34m\u001b[0m\u001b[0m\n\u001b[0;32m--> 688\u001b[0;31m             \u001b[0mtrials_save_file\u001b[0m\u001b[0;34m=\u001b[0m\u001b[0mtrials_save_file\u001b[0m\u001b[0;34m,\u001b[0m\u001b[0;34m\u001b[0m\u001b[0;34m\u001b[0m\u001b[0m\n\u001b[0m\u001b[1;32m    689\u001b[0m         )\n\u001b[1;32m    690\u001b[0m \u001b[0;34m\u001b[0m\u001b[0m\n",
      "\u001b[0;32m~/opt/anaconda3/envs/dsci553/lib/python3.6/site-packages/hyperopt/fmin.py\u001b[0m in \u001b[0;36mfmin\u001b[0;34m(fn, space, algo, max_evals, timeout, loss_threshold, trials, rstate, allow_trials_fmin, pass_expr_memo_ctrl, catch_eval_exceptions, verbose, return_argmin, points_to_evaluate, max_queue_len, show_progressbar, early_stop_fn, trials_save_file)\u001b[0m\n\u001b[1;32m    584\u001b[0m \u001b[0;34m\u001b[0m\u001b[0m\n\u001b[1;32m    585\u001b[0m     \u001b[0;31m# next line is where the fmin is actually executed\u001b[0m\u001b[0;34m\u001b[0m\u001b[0;34m\u001b[0m\u001b[0;34m\u001b[0m\u001b[0m\n\u001b[0;32m--> 586\u001b[0;31m     \u001b[0mrval\u001b[0m\u001b[0;34m.\u001b[0m\u001b[0mexhaust\u001b[0m\u001b[0;34m(\u001b[0m\u001b[0;34m)\u001b[0m\u001b[0;34m\u001b[0m\u001b[0;34m\u001b[0m\u001b[0m\n\u001b[0m\u001b[1;32m    587\u001b[0m \u001b[0;34m\u001b[0m\u001b[0m\n\u001b[1;32m    588\u001b[0m     \u001b[0;32mif\u001b[0m \u001b[0mreturn_argmin\u001b[0m\u001b[0;34m:\u001b[0m\u001b[0;34m\u001b[0m\u001b[0;34m\u001b[0m\u001b[0m\n",
      "\u001b[0;32m~/opt/anaconda3/envs/dsci553/lib/python3.6/site-packages/hyperopt/fmin.py\u001b[0m in \u001b[0;36mexhaust\u001b[0;34m(self)\u001b[0m\n\u001b[1;32m    362\u001b[0m     \u001b[0;32mdef\u001b[0m \u001b[0mexhaust\u001b[0m\u001b[0;34m(\u001b[0m\u001b[0mself\u001b[0m\u001b[0;34m)\u001b[0m\u001b[0;34m:\u001b[0m\u001b[0;34m\u001b[0m\u001b[0;34m\u001b[0m\u001b[0m\n\u001b[1;32m    363\u001b[0m         \u001b[0mn_done\u001b[0m \u001b[0;34m=\u001b[0m \u001b[0mlen\u001b[0m\u001b[0;34m(\u001b[0m\u001b[0mself\u001b[0m\u001b[0;34m.\u001b[0m\u001b[0mtrials\u001b[0m\u001b[0;34m)\u001b[0m\u001b[0;34m\u001b[0m\u001b[0;34m\u001b[0m\u001b[0m\n\u001b[0;32m--> 364\u001b[0;31m         \u001b[0mself\u001b[0m\u001b[0;34m.\u001b[0m\u001b[0mrun\u001b[0m\u001b[0;34m(\u001b[0m\u001b[0mself\u001b[0m\u001b[0;34m.\u001b[0m\u001b[0mmax_evals\u001b[0m \u001b[0;34m-\u001b[0m \u001b[0mn_done\u001b[0m\u001b[0;34m,\u001b[0m \u001b[0mblock_until_done\u001b[0m\u001b[0;34m=\u001b[0m\u001b[0mself\u001b[0m\u001b[0;34m.\u001b[0m\u001b[0masynchronous\u001b[0m\u001b[0;34m)\u001b[0m\u001b[0;34m\u001b[0m\u001b[0;34m\u001b[0m\u001b[0m\n\u001b[0m\u001b[1;32m    365\u001b[0m         \u001b[0mself\u001b[0m\u001b[0;34m.\u001b[0m\u001b[0mtrials\u001b[0m\u001b[0;34m.\u001b[0m\u001b[0mrefresh\u001b[0m\u001b[0;34m(\u001b[0m\u001b[0;34m)\u001b[0m\u001b[0;34m\u001b[0m\u001b[0;34m\u001b[0m\u001b[0m\n\u001b[1;32m    366\u001b[0m         \u001b[0;32mreturn\u001b[0m \u001b[0mself\u001b[0m\u001b[0;34m\u001b[0m\u001b[0;34m\u001b[0m\u001b[0m\n",
      "\u001b[0;32m~/opt/anaconda3/envs/dsci553/lib/python3.6/site-packages/hyperopt/fmin.py\u001b[0m in \u001b[0;36mrun\u001b[0;34m(self, N, block_until_done)\u001b[0m\n\u001b[1;32m    298\u001b[0m                 \u001b[0;32melse\u001b[0m\u001b[0;34m:\u001b[0m\u001b[0;34m\u001b[0m\u001b[0;34m\u001b[0m\u001b[0m\n\u001b[1;32m    299\u001b[0m                     \u001b[0;31m# -- loop over trials and do the jobs directly\u001b[0m\u001b[0;34m\u001b[0m\u001b[0;34m\u001b[0m\u001b[0;34m\u001b[0m\u001b[0m\n\u001b[0;32m--> 300\u001b[0;31m                     \u001b[0mself\u001b[0m\u001b[0;34m.\u001b[0m\u001b[0mserial_evaluate\u001b[0m\u001b[0;34m(\u001b[0m\u001b[0;34m)\u001b[0m\u001b[0;34m\u001b[0m\u001b[0;34m\u001b[0m\u001b[0m\n\u001b[0m\u001b[1;32m    301\u001b[0m \u001b[0;34m\u001b[0m\u001b[0m\n\u001b[1;32m    302\u001b[0m                 \u001b[0mself\u001b[0m\u001b[0;34m.\u001b[0m\u001b[0mtrials\u001b[0m\u001b[0;34m.\u001b[0m\u001b[0mrefresh\u001b[0m\u001b[0;34m(\u001b[0m\u001b[0;34m)\u001b[0m\u001b[0;34m\u001b[0m\u001b[0;34m\u001b[0m\u001b[0m\n",
      "\u001b[0;32m~/opt/anaconda3/envs/dsci553/lib/python3.6/site-packages/hyperopt/fmin.py\u001b[0m in \u001b[0;36mserial_evaluate\u001b[0;34m(self, N)\u001b[0m\n\u001b[1;32m    176\u001b[0m                 \u001b[0mctrl\u001b[0m \u001b[0;34m=\u001b[0m \u001b[0mbase\u001b[0m\u001b[0;34m.\u001b[0m\u001b[0mCtrl\u001b[0m\u001b[0;34m(\u001b[0m\u001b[0mself\u001b[0m\u001b[0;34m.\u001b[0m\u001b[0mtrials\u001b[0m\u001b[0;34m,\u001b[0m \u001b[0mcurrent_trial\u001b[0m\u001b[0;34m=\u001b[0m\u001b[0mtrial\u001b[0m\u001b[0;34m)\u001b[0m\u001b[0;34m\u001b[0m\u001b[0;34m\u001b[0m\u001b[0m\n\u001b[1;32m    177\u001b[0m                 \u001b[0;32mtry\u001b[0m\u001b[0;34m:\u001b[0m\u001b[0;34m\u001b[0m\u001b[0;34m\u001b[0m\u001b[0m\n\u001b[0;32m--> 178\u001b[0;31m                     \u001b[0mresult\u001b[0m \u001b[0;34m=\u001b[0m \u001b[0mself\u001b[0m\u001b[0;34m.\u001b[0m\u001b[0mdomain\u001b[0m\u001b[0;34m.\u001b[0m\u001b[0mevaluate\u001b[0m\u001b[0;34m(\u001b[0m\u001b[0mspec\u001b[0m\u001b[0;34m,\u001b[0m \u001b[0mctrl\u001b[0m\u001b[0;34m)\u001b[0m\u001b[0;34m\u001b[0m\u001b[0;34m\u001b[0m\u001b[0m\n\u001b[0m\u001b[1;32m    179\u001b[0m                 \u001b[0;32mexcept\u001b[0m \u001b[0mException\u001b[0m \u001b[0;32mas\u001b[0m \u001b[0me\u001b[0m\u001b[0;34m:\u001b[0m\u001b[0;34m\u001b[0m\u001b[0;34m\u001b[0m\u001b[0m\n\u001b[1;32m    180\u001b[0m                     \u001b[0mlogger\u001b[0m\u001b[0;34m.\u001b[0m\u001b[0merror\u001b[0m\u001b[0;34m(\u001b[0m\u001b[0;34m\"job exception: %s\"\u001b[0m \u001b[0;34m%\u001b[0m \u001b[0mstr\u001b[0m\u001b[0;34m(\u001b[0m\u001b[0me\u001b[0m\u001b[0;34m)\u001b[0m\u001b[0;34m)\u001b[0m\u001b[0;34m\u001b[0m\u001b[0;34m\u001b[0m\u001b[0m\n",
      "\u001b[0;32m~/opt/anaconda3/envs/dsci553/lib/python3.6/site-packages/hyperopt/base.py\u001b[0m in \u001b[0;36mevaluate\u001b[0;34m(self, config, ctrl, attach_attachments)\u001b[0m\n\u001b[1;32m    890\u001b[0m                 \u001b[0mprint_node_on_error\u001b[0m\u001b[0;34m=\u001b[0m\u001b[0mself\u001b[0m\u001b[0;34m.\u001b[0m\u001b[0mrec_eval_print_node_on_error\u001b[0m\u001b[0;34m,\u001b[0m\u001b[0;34m\u001b[0m\u001b[0;34m\u001b[0m\u001b[0m\n\u001b[1;32m    891\u001b[0m             )\n\u001b[0;32m--> 892\u001b[0;31m             \u001b[0mrval\u001b[0m \u001b[0;34m=\u001b[0m \u001b[0mself\u001b[0m\u001b[0;34m.\u001b[0m\u001b[0mfn\u001b[0m\u001b[0;34m(\u001b[0m\u001b[0mpyll_rval\u001b[0m\u001b[0;34m)\u001b[0m\u001b[0;34m\u001b[0m\u001b[0;34m\u001b[0m\u001b[0m\n\u001b[0m\u001b[1;32m    893\u001b[0m \u001b[0;34m\u001b[0m\u001b[0m\n\u001b[1;32m    894\u001b[0m         \u001b[0;32mif\u001b[0m \u001b[0misinstance\u001b[0m\u001b[0;34m(\u001b[0m\u001b[0mrval\u001b[0m\u001b[0;34m,\u001b[0m \u001b[0;34m(\u001b[0m\u001b[0mfloat\u001b[0m\u001b[0;34m,\u001b[0m \u001b[0mint\u001b[0m\u001b[0;34m,\u001b[0m \u001b[0mnp\u001b[0m\u001b[0;34m.\u001b[0m\u001b[0mnumber\u001b[0m\u001b[0;34m)\u001b[0m\u001b[0;34m)\u001b[0m\u001b[0;34m:\u001b[0m\u001b[0;34m\u001b[0m\u001b[0;34m\u001b[0m\u001b[0m\n",
      "\u001b[0;32m<ipython-input-9-8ca197b92b07>\u001b[0m in \u001b[0;36mobjective\u001b[0;34m(space)\u001b[0m\n\u001b[1;32m     24\u001b[0m     clf.fit(X_train, y_train,\n\u001b[1;32m     25\u001b[0m             \u001b[0meval_set\u001b[0m\u001b[0;34m=\u001b[0m\u001b[0mevaluation\u001b[0m\u001b[0;34m,\u001b[0m \u001b[0meval_metric\u001b[0m\u001b[0;34m=\u001b[0m\u001b[0;34m\"rmse\"\u001b[0m\u001b[0;34m,\u001b[0m\u001b[0;34m\u001b[0m\u001b[0;34m\u001b[0m\u001b[0m\n\u001b[0;32m---> 26\u001b[0;31m             early_stopping_rounds=10,verbose=False)\n\u001b[0m\u001b[1;32m     27\u001b[0m \u001b[0;34m\u001b[0m\u001b[0m\n\u001b[1;32m     28\u001b[0m \u001b[0;34m\u001b[0m\u001b[0m\n",
      "\u001b[0;32m~/opt/anaconda3/envs/dsci553/lib/python3.6/site-packages/xgboost/sklearn.py\u001b[0m in \u001b[0;36mfit\u001b[0;34m(self, X, y, sample_weight, eval_set, eval_metric, early_stopping_rounds, verbose, xgb_model, sample_weight_eval_set)\u001b[0m\n\u001b[1;32m    300\u001b[0m                               \u001b[0mearly_stopping_rounds\u001b[0m\u001b[0;34m=\u001b[0m\u001b[0mearly_stopping_rounds\u001b[0m\u001b[0;34m,\u001b[0m\u001b[0;34m\u001b[0m\u001b[0;34m\u001b[0m\u001b[0m\n\u001b[1;32m    301\u001b[0m                               \u001b[0mevals_result\u001b[0m\u001b[0;34m=\u001b[0m\u001b[0mevals_result\u001b[0m\u001b[0;34m,\u001b[0m \u001b[0mobj\u001b[0m\u001b[0;34m=\u001b[0m\u001b[0mobj\u001b[0m\u001b[0;34m,\u001b[0m \u001b[0mfeval\u001b[0m\u001b[0;34m=\u001b[0m\u001b[0mfeval\u001b[0m\u001b[0;34m,\u001b[0m\u001b[0;34m\u001b[0m\u001b[0;34m\u001b[0m\u001b[0m\n\u001b[0;32m--> 302\u001b[0;31m                               verbose_eval=verbose, xgb_model=xgb_model)\n\u001b[0m\u001b[1;32m    303\u001b[0m \u001b[0;34m\u001b[0m\u001b[0m\n\u001b[1;32m    304\u001b[0m         \u001b[0;32mif\u001b[0m \u001b[0mevals_result\u001b[0m\u001b[0;34m:\u001b[0m\u001b[0;34m\u001b[0m\u001b[0;34m\u001b[0m\u001b[0m\n",
      "\u001b[0;32m~/opt/anaconda3/envs/dsci553/lib/python3.6/site-packages/xgboost/training.py\u001b[0m in \u001b[0;36mtrain\u001b[0;34m(params, dtrain, num_boost_round, evals, obj, feval, maximize, early_stopping_rounds, evals_result, verbose_eval, xgb_model, callbacks, learning_rates)\u001b[0m\n\u001b[1;32m    202\u001b[0m                            \u001b[0mevals\u001b[0m\u001b[0;34m=\u001b[0m\u001b[0mevals\u001b[0m\u001b[0;34m,\u001b[0m\u001b[0;34m\u001b[0m\u001b[0;34m\u001b[0m\u001b[0m\n\u001b[1;32m    203\u001b[0m                            \u001b[0mobj\u001b[0m\u001b[0;34m=\u001b[0m\u001b[0mobj\u001b[0m\u001b[0;34m,\u001b[0m \u001b[0mfeval\u001b[0m\u001b[0;34m=\u001b[0m\u001b[0mfeval\u001b[0m\u001b[0;34m,\u001b[0m\u001b[0;34m\u001b[0m\u001b[0;34m\u001b[0m\u001b[0m\n\u001b[0;32m--> 204\u001b[0;31m                            xgb_model=xgb_model, callbacks=callbacks)\n\u001b[0m\u001b[1;32m    205\u001b[0m \u001b[0;34m\u001b[0m\u001b[0m\n\u001b[1;32m    206\u001b[0m \u001b[0;34m\u001b[0m\u001b[0m\n",
      "\u001b[0;32m~/opt/anaconda3/envs/dsci553/lib/python3.6/site-packages/xgboost/training.py\u001b[0m in \u001b[0;36m_train_internal\u001b[0;34m(params, dtrain, num_boost_round, evals, obj, feval, xgb_model, callbacks)\u001b[0m\n\u001b[1;32m     72\u001b[0m         \u001b[0;31m# Skip the first update if it is a recovery step.\u001b[0m\u001b[0;34m\u001b[0m\u001b[0;34m\u001b[0m\u001b[0;34m\u001b[0m\u001b[0m\n\u001b[1;32m     73\u001b[0m         \u001b[0;32mif\u001b[0m \u001b[0mversion\u001b[0m \u001b[0;34m%\u001b[0m \u001b[0;36m2\u001b[0m \u001b[0;34m==\u001b[0m \u001b[0;36m0\u001b[0m\u001b[0;34m:\u001b[0m\u001b[0;34m\u001b[0m\u001b[0;34m\u001b[0m\u001b[0m\n\u001b[0;32m---> 74\u001b[0;31m             \u001b[0mbst\u001b[0m\u001b[0;34m.\u001b[0m\u001b[0mupdate\u001b[0m\u001b[0;34m(\u001b[0m\u001b[0mdtrain\u001b[0m\u001b[0;34m,\u001b[0m \u001b[0mi\u001b[0m\u001b[0;34m,\u001b[0m \u001b[0mobj\u001b[0m\u001b[0;34m)\u001b[0m\u001b[0;34m\u001b[0m\u001b[0;34m\u001b[0m\u001b[0m\n\u001b[0m\u001b[1;32m     75\u001b[0m             \u001b[0mbst\u001b[0m\u001b[0;34m.\u001b[0m\u001b[0msave_rabit_checkpoint\u001b[0m\u001b[0;34m(\u001b[0m\u001b[0;34m)\u001b[0m\u001b[0;34m\u001b[0m\u001b[0;34m\u001b[0m\u001b[0m\n\u001b[1;32m     76\u001b[0m             \u001b[0mversion\u001b[0m \u001b[0;34m+=\u001b[0m \u001b[0;36m1\u001b[0m\u001b[0;34m\u001b[0m\u001b[0;34m\u001b[0m\u001b[0m\n",
      "\u001b[0;32m~/opt/anaconda3/envs/dsci553/lib/python3.6/site-packages/xgboost/core.py\u001b[0m in \u001b[0;36mupdate\u001b[0;34m(self, dtrain, iteration, fobj)\u001b[0m\n\u001b[1;32m    892\u001b[0m         \u001b[0;32mif\u001b[0m \u001b[0mfobj\u001b[0m \u001b[0;32mis\u001b[0m \u001b[0;32mNone\u001b[0m\u001b[0;34m:\u001b[0m\u001b[0;34m\u001b[0m\u001b[0;34m\u001b[0m\u001b[0m\n\u001b[1;32m    893\u001b[0m             _check_call(_LIB.XGBoosterUpdateOneIter(self.handle, ctypes.c_int(iteration),\n\u001b[0;32m--> 894\u001b[0;31m                                                     dtrain.handle))\n\u001b[0m\u001b[1;32m    895\u001b[0m         \u001b[0;32melse\u001b[0m\u001b[0;34m:\u001b[0m\u001b[0;34m\u001b[0m\u001b[0;34m\u001b[0m\u001b[0m\n\u001b[1;32m    896\u001b[0m             \u001b[0mpred\u001b[0m \u001b[0;34m=\u001b[0m \u001b[0mself\u001b[0m\u001b[0;34m.\u001b[0m\u001b[0mpredict\u001b[0m\u001b[0;34m(\u001b[0m\u001b[0mdtrain\u001b[0m\u001b[0;34m)\u001b[0m\u001b[0;34m\u001b[0m\u001b[0;34m\u001b[0m\u001b[0m\n",
      "\u001b[0;31mKeyboardInterrupt\u001b[0m: "
     ]
    }
   ],
   "source": [
    "trials = Trials()\n",
    "\n",
    "best_hyperparams = fmin(fn = objective,\n",
    "                        space = space,\n",
    "                        algo = tpe.suggest,\n",
    "                        max_evals = 25,\n",
    "                        trials = trials)"
   ]
  },
  {
   "cell_type": "code",
   "execution_count": 17,
   "metadata": {},
   "outputs": [
    {
     "data": {
      "text/plain": [
       "{'colsample_bytree': 0.7670554549316846,\n",
       " 'gamma': 4.886927896270191,\n",
       " 'learning_rate': 0.04262522175688959,\n",
       " 'max_depth': 17.0,\n",
       " 'min_child_weight': 8.0,\n",
       " 'n_estimators': 574.0,\n",
       " 'reg_alpha': 63.0,\n",
       " 'reg_lambda': 34.99906842816348}"
      ]
     },
     "execution_count": 17,
     "metadata": {},
     "output_type": "execute_result"
    }
   ],
   "source": [
    "best_hyperparams"
   ]
  },
  {
   "cell_type": "code",
   "execution_count": 20,
   "metadata": {},
   "outputs": [
    {
     "name": "stdout",
     "output_type": "stream",
     "text": [
      "Train RMSE: 0.9684958237327738; Test RMSE: 0.9781164498955753\n"
     ]
    }
   ],
   "source": [
    "xgb_best = XGBRegressor(objective='reg:linear', base_score=0.5, booster='gbtree', colsample_bylevel=1, colsample_bynode=1, \\\n",
    "        gpu_id=1, interaction_constraints='', max_delta_step=0, random_state=0, \\\n",
    "            n_jobs=8, num_parallel_tree=1, scale_pos_weight=1, subsample=best_hyperparams['subsample'], \\\n",
    "                tree_method='exact', validate_parameters=1, verbosity=None, n_estimators=int(best_hyperparams['n_estimators']), \\\n",
    "                    max_depth=int(best_hyperparams['max_depth']), reg_lambda=best_hyperparams['reg_lambda'], \\\n",
    "                        gamma=best_hyperparams['gamma'], learning_rate=best_hyperparams['learning_rate'], \\\n",
    "                            reg_alpha=int(best_hyperparams['reg_alpha']), min_child_weight=int(best_hyperparams['min_child_weight']), \\\n",
    "                                colsample_bytree=best_hyperparams['colsample_bytree']).fit(X_train, y_train)\n",
    "\n",
    "y_pred_train = list(xgb_best.predict(X_train))\n",
    "train_rmse = mean_squared_error(list(y_train), y_pred_train, squared=False)\n",
    "\n",
    "y_pred_test = list(xgb_best.predict(X_test))\n",
    "test_rmse = mean_squared_error(list(y_test), y_pred_test, squared=False)\n",
    "\n",
    "print(f'Train RMSE: {train_rmse}; Test RMSE: {test_rmse}')"
   ]
  },
  {
   "cell_type": "code",
   "execution_count": 152,
   "metadata": {},
   "outputs": [
    {
     "data": {
      "text/plain": [
       "XGBRegressor(base_score=0.5, booster='gbtree', colsample_bylevel=1,\n",
       "             colsample_bynode=1, colsample_bytree=0.7108151246534398,\n",
       "             gamma=2.2447654903089527, gpu_id=-1, importance_type='gain',\n",
       "             interaction_constraints='', learning_rate=0.08765832581870968,\n",
       "             max_delta_step=0, max_depth=9, min_child_weight=1, missing=nan,\n",
       "             monotone_constraints='()', n_estimators=777, n_jobs=8,\n",
       "             num_parallel_tree=1, random_state=0, reg_alpha=34.28128842482173,\n",
       "             reg_lambda=30.63049228235448, scale_pos_weight=1, subsample=1,\n",
       "             tree_method='exact', validate_parameters=1, verbosity=None)"
      ]
     },
     "execution_count": 152,
     "metadata": {},
     "output_type": "execute_result"
    }
   ],
   "source": [
    "from sklearn.model_selection import RandomizedSearchCV, KFold\n",
    "from scipy import stats\n",
    "\n",
    "space={'learning_rate': stats.uniform(0.01, 0.49),\n",
    "    'max_depth': stats.randint(1, 10),\n",
    "    'gamma': stats.uniform (1, 8),\n",
    "    'reg_alpha': stats.uniform(0, 100),\n",
    "    'reg_lambda': stats.uniform(0, 100),\n",
    "    'colsample_bytree': stats.uniform(0.5, 0.5),\n",
    "    'min_child_weight': stats.randint(0, 10),\n",
    "    'n_estimators': stats.randint(100, 990)\n",
    "}\n",
    "\n",
    "xgb_test = XGBRegressor()\n",
    "cv = KFold(n_splits=5, shuffle=True)\n",
    "rscv = RandomizedSearchCV(xgb_test, space, n_iter=100, cv=cv)\n",
    "rscv.fit(X_train, y_train)\n",
    "best_model = rscv.best_estimator_\n",
    "best_model"
   ]
  },
  {
   "cell_type": "code",
   "execution_count": 153,
   "metadata": {},
   "outputs": [
    {
     "name": "stdout",
     "output_type": "stream",
     "text": [
      "Train RMSE: 0.9758865449213205; Test RMSE: 0.9831840967979896\n"
     ]
    }
   ],
   "source": [
    "xgb_best_rscv = XGBRegressor(n_estimators=int(best_hyperparams['n_estimators']), max_depth=int(best_hyperparams['max_depth']),\n",
    "                    reg_lambda=int(best_hyperparams['reg_lambda']), gamma=best_hyperparams['gamma'],\n",
    "                    learning_rate=best_hyperparams['learning_rate'], reg_alpha=int(best_hyperparams['reg_alpha']),\n",
    "                    min_child_weight=int(best_hyperparams['min_child_weight']), \n",
    "                    colsample_bytree=int(best_hyperparams['colsample_bytree'])).fit(X_train, y_train)\n",
    "\n",
    "y_pred_train = list(xgb_best_rscv.predict(X_train))\n",
    "train_rmse = mean_squared_error(list(y_train), y_pred_train, squared=False)\n",
    "\n",
    "y_pred_test = list(xgb_best_rscv.predict(X_test))\n",
    "test_rmse = mean_squared_error(list(y_test), y_pred_test, squared=False)\n",
    "\n",
    "print(f'Train RMSE: {train_rmse}; Test RMSE: {test_rmse}')"
   ]
  },
  {
   "cell_type": "code",
   "execution_count": 79,
   "metadata": {},
   "outputs": [],
   "source": [
    "from sklearn.neural_network import MLPRegressor\n",
    "from sklearn.preprocessing import StandardScaler, MinMaxScaler"
   ]
  },
  {
   "cell_type": "code",
   "execution_count": 80,
   "metadata": {},
   "outputs": [],
   "source": [
    "scaler = MinMaxScaler()\n",
    "X_train_scaled = scaler.fit_transform(X_train)\n",
    "X_test_scaled = scaler.transform(X_test)"
   ]
  },
  {
   "cell_type": "code",
   "execution_count": 82,
   "metadata": {},
   "outputs": [
    {
     "data": {
      "text/plain": [
       "array([[0.75      , 0.11663196, 0.70949721, 0.00142725, 0.01611441,\n",
       "        0.00522837],\n",
       "       [0.625     , 0.11272616, 0.70949721, 0.00142725, 0.01611441,\n",
       "        0.00522837],\n",
       "       [0.875     , 0.11265137, 0.70949721, 0.00142725, 0.01611441,\n",
       "        0.00522837],\n",
       "       ...,\n",
       "       [0.375     , 0.81993327, 0.60055866, 0.04777097, 0.00432245,\n",
       "        0.03629749],\n",
       "       [0.625     , 0.81934843, 0.60055866, 0.04777097, 0.00432245,\n",
       "        0.03629749],\n",
       "       [0.625     , 0.820775  , 0.60055866, 0.04777097, 0.00432245,\n",
       "        0.03629749]])"
      ]
     },
     "execution_count": 82,
     "metadata": {},
     "output_type": "execute_result"
    }
   ],
   "source": [
    "X_train_scaled"
   ]
  },
  {
   "cell_type": "code",
   "execution_count": 83,
   "metadata": {},
   "outputs": [
    {
     "data": {
      "text/plain": [
       "array([[0.75      , 0.11594999, 0.65083799, 0.02846109, 0.00245943,\n",
       "        0.02096952],\n",
       "       [0.5       , 0.11486258, 0.65083799, 0.02846109, 0.00245943,\n",
       "        0.02096952],\n",
       "       [0.625     , 0.11059656, 0.65083799, 0.02846109, 0.00245943,\n",
       "        0.02096952],\n",
       "       ...,\n",
       "       [0.75      , 0.1123162 , 0.79050279, 0.00167912, 0.00267644,\n",
       "        0.00206003],\n",
       "       [0.5       , 0.11242984, 0.79050279, 0.00167912, 0.00267644,\n",
       "        0.00206003],\n",
       "       [0.625     , 0.10241453, 0.79050279, 0.00167912, 0.00267644,\n",
       "        0.00206003]])"
      ]
     },
     "execution_count": 83,
     "metadata": {},
     "output_type": "execute_result"
    }
   ],
   "source": [
    "X_test_scaled"
   ]
  },
  {
   "cell_type": "code",
   "execution_count": 84,
   "metadata": {},
   "outputs": [
    {
     "name": "stdout",
     "output_type": "stream",
     "text": [
      "Train RMSE: 0.9873522112644619; Test RMSE: 0.9849081866497436\n"
     ]
    }
   ],
   "source": [
    "mlp = MLPRegressor().fit(X_train_scaled, y_train)\n",
    "y_pred_train = list(mlp.predict(X_train_scaled))\n",
    "train_rmse = mean_squared_error(list(y_train), y_pred_train, squared=False)\n",
    "\n",
    "y_pred_test = list(mlp.predict(X_test_scaled))\n",
    "test_rmse = mean_squared_error(list(y_test), y_pred_test, squared=False)\n",
    "\n",
    "print(f'Train RMSE: {train_rmse}; Test RMSE: {test_rmse}')"
   ]
  },
  {
   "cell_type": "code",
   "execution_count": 13,
   "metadata": {},
   "outputs": [],
   "source": [
    "space={'solver': 'adam',\n",
    "    'learning_rate_init': hp.loguniform(\"max_depth\", -14, -2),\n",
    "    'learning_rate': 'invscaling',\n",
    "    'alpha': hp.loguniform('alpha', -14, 5),\n",
    "    'early_stopping': True,\n",
    "    'max_iter': hp.quniform('max_iter', 25, 200, 1),\n",
    "    'batch_size': hp.quniform(\"batch_size\", 50, 256, 1),\n",
    "    'seed': 0\n",
    "}\n",
    "\n",
    "def objective_mlp(space):\n",
    "    clf = MLPRegressor(\n",
    "                    solver=space['solver'], learning_rate_init=space['learning_rate_init'], learning_rate=space['learning_rate'],\n",
    "                    alpha=space['alpha'], early_stopping=space['early_stopping'], max_iter=int(space['max_iter']),\n",
    "                    batch_size=int(space['batch_size']))\n",
    "        \n",
    "    clf.fit(X_train_scaled, y_train)\n",
    "    \n",
    "\n",
    "    pred = clf.predict(X_test_scaled)\n",
    "    test_rmse = mean_squared_error(y_test, pred, squared=False)\n",
    "    print (\"RMSE:\", test_rmse)\n",
    "    return {'loss': test_rmse, 'status': STATUS_OK }"
   ]
  },
  {
   "cell_type": "code",
   "execution_count": 14,
   "metadata": {},
   "outputs": [
    {
     "name": "stdout",
     "output_type": "stream",
     "text": [
      "RMSE:                                                  \n",
      "0.9882866812848835                                     \n",
      "RMSE:                                                                              \n",
      "0.9876771389463073                                                                 \n",
      "  2%|▏         | 2/100 [01:35<1:17:48, 47.64s/trial, best loss: 0.9876771389463073]"
     ]
    },
    {
     "name": "stderr",
     "output_type": "stream",
     "text": [
      "/Users/rpenumarti/opt/anaconda3/envs/dsci553/lib/python3.6/site-packages/sklearn/neural_network/_multilayer_perceptron.py:617: ConvergenceWarning: Stochastic Optimizer: Maximum iterations (48) reached and the optimization hasn't converged yet.\n",
      "  % self.max_iter, ConvergenceWarning)\n",
      "\n"
     ]
    },
    {
     "name": "stdout",
     "output_type": "stream",
     "text": [
      "RMSE:                                                                              \n",
      "1.1206573594362608                                                                 \n",
      "RMSE:                                                                              \n",
      "1.0290160299626325                                                               \n",
      "RMSE:                                                                              \n",
      "1.0085652332775241                                                                 \n",
      "RMSE:                                                                              \n",
      "1.0430502448412622                                                                 \n",
      "RMSE:                                                                              \n",
      "0.9932047909478007                                                                 \n",
      "RMSE:                                                                              \n",
      "0.9924073195082076                                                                 \n",
      "  8%|▊         | 8/100 [06:44<1:00:37, 39.53s/trial, best loss: 0.9876771389463073]"
     ]
    },
    {
     "name": "stderr",
     "output_type": "stream",
     "text": [
      "/Users/rpenumarti/opt/anaconda3/envs/dsci553/lib/python3.6/site-packages/sklearn/neural_network/_multilayer_perceptron.py:617: ConvergenceWarning: Stochastic Optimizer: Maximum iterations (26) reached and the optimization hasn't converged yet.\n",
      "  % self.max_iter, ConvergenceWarning)\n",
      "\n"
     ]
    },
    {
     "name": "stdout",
     "output_type": "stream",
     "text": [
      "RMSE:                                                                              \n",
      "1.0136458763783958                                                                 \n",
      "RMSE:                                                                              \n",
      "0.9928038341904493                                                               \n",
      "RMSE:                                                                             \n",
      "0.988147444829406                                                                 \n",
      "RMSE:                                                                             \n",
      "1.017178200141302                                                                 \n",
      "RMSE:                                                                             \n",
      "0.9970298072586634                                                                \n",
      " 13%|█▎        | 13/100 [11:41<1:54:56, 79.27s/trial, best loss: 0.9876771389463073]"
     ]
    },
    {
     "name": "stderr",
     "output_type": "stream",
     "text": [
      "/Users/rpenumarti/opt/anaconda3/envs/dsci553/lib/python3.6/site-packages/sklearn/neural_network/_multilayer_perceptron.py:617: ConvergenceWarning: Stochastic Optimizer: Maximum iterations (189) reached and the optimization hasn't converged yet.\n",
      "  % self.max_iter, ConvergenceWarning)\n",
      "\n"
     ]
    },
    {
     "name": "stdout",
     "output_type": "stream",
     "text": [
      "RMSE:                                                                               \n",
      "0.9900504749030781                                                                  \n",
      "RMSE:                                                                               \n",
      "0.9888563632045323                                                                  \n",
      "RMSE:                                                                               \n",
      "0.987505537947134                                                                   \n",
      "RMSE:                                                                               \n",
      "1.000106603768225                                                                   \n",
      "RMSE:                                                                               \n",
      "1.0031380420578442                                                                 \n",
      "RMSE:                                                                              \n",
      "1.0205210246414715                                                                 \n",
      "RMSE:                                                                              \n",
      "0.9882587750356944                                                                 \n",
      " 20%|██        | 20/100 [18:26<57:50, 43.38s/trial, best loss: 0.987505537947134]  "
     ]
    },
    {
     "name": "stderr",
     "output_type": "stream",
     "text": [
      "/Users/rpenumarti/opt/anaconda3/envs/dsci553/lib/python3.6/site-packages/sklearn/neural_network/_multilayer_perceptron.py:617: ConvergenceWarning: Stochastic Optimizer: Maximum iterations (33) reached and the optimization hasn't converged yet.\n",
      "  % self.max_iter, ConvergenceWarning)\n",
      "\n"
     ]
    },
    {
     "name": "stdout",
     "output_type": "stream",
     "text": [
      "                                                                                 \r"
     ]
    },
    {
     "name": "stderr",
     "output_type": "stream",
     "text": [
      "/Users/rpenumarti/opt/anaconda3/envs/dsci553/lib/python3.6/site-packages/sklearn/neural_network/_multilayer_perceptron.py:617: ConvergenceWarning: Stochastic Optimizer: Maximum iterations (88) reached and the optimization hasn't converged yet.\n",
      "  % self.max_iter, ConvergenceWarning)\n",
      "\n"
     ]
    },
    {
     "name": "stdout",
     "output_type": "stream",
     "text": [
      "RMSE:\n",
      "0.9888314466685774                                                               \n",
      "RMSE:                                                                              \n",
      "0.9927369818640234                                                                 \n",
      " 22%|██▏       | 22/100 [22:31<1:50:32, 85.03s/trial, best loss: 0.987505537947134]"
     ]
    },
    {
     "name": "stderr",
     "output_type": "stream",
     "text": [
      "/Users/rpenumarti/opt/anaconda3/envs/dsci553/lib/python3.6/site-packages/sklearn/neural_network/_multilayer_perceptron.py:617: ConvergenceWarning: Stochastic Optimizer: Maximum iterations (141) reached and the optimization hasn't converged yet.\n",
      "  % self.max_iter, ConvergenceWarning)\n",
      "\n"
     ]
    },
    {
     "name": "stdout",
     "output_type": "stream",
     "text": [
      "RMSE:                                                                              \n",
      "0.9870093261983032                                                                 \n",
      "RMSE:                                                                               \n",
      "0.9875346326896048                                                                  \n",
      "RMSE:                                                                               \n",
      "0.9920144906769625                                                                  \n",
      "RMSE:                                                                               \n",
      "0.9965730093857935                                                                  \n",
      "RMSE:                                                                               \n",
      "0.9884423440775979                                                                \n",
      "RMSE:                                                                             \n",
      "0.9881717508052328                                                                \n",
      "RMSE:                                                                             \n",
      "1.018439808150046                                                                 \n",
      " 29%|██▉       | 29/100 [28:05<1:07:15, 56.84s/trial, best loss: 0.9870093261983032]"
     ]
    },
    {
     "name": "stderr",
     "output_type": "stream",
     "text": [
      "/Users/rpenumarti/opt/anaconda3/envs/dsci553/lib/python3.6/site-packages/sklearn/neural_network/_multilayer_perceptron.py:617: ConvergenceWarning: Stochastic Optimizer: Maximum iterations (67) reached and the optimization hasn't converged yet.\n",
      "  % self.max_iter, ConvergenceWarning)\n",
      "\n"
     ]
    },
    {
     "name": "stdout",
     "output_type": "stream",
     "text": [
      "RMSE:                                                                               \n",
      "0.9890830926247701                                                                  \n",
      "RMSE:                                                                               \n",
      "0.9896219439459671                                                                  \n",
      "RMSE:                                                                               \n",
      "1.0588336840893302                                                                \n",
      "RMSE:                                                                             \n",
      "0.9914868093164658                                                                \n",
      " 33%|███▎      | 33/100 [32:39<1:30:40, 81.20s/trial, best loss: 0.9870093261983032]"
     ]
    },
    {
     "name": "stderr",
     "output_type": "stream",
     "text": [
      "/Users/rpenumarti/opt/anaconda3/envs/dsci553/lib/python3.6/site-packages/sklearn/neural_network/_multilayer_perceptron.py:617: ConvergenceWarning: Stochastic Optimizer: Maximum iterations (151) reached and the optimization hasn't converged yet.\n",
      "  % self.max_iter, ConvergenceWarning)\n",
      "\n"
     ]
    },
    {
     "name": "stdout",
     "output_type": "stream",
     "text": [
      "                                                                                    "
     ]
    },
    {
     "name": "stderr",
     "output_type": "stream",
     "text": [
      "/Users/rpenumarti/opt/anaconda3/envs/dsci553/lib/python3.6/site-packages/sklearn/neural_network/_multilayer_perceptron.py:617: ConvergenceWarning: Stochastic Optimizer: Maximum iterations (125) reached and the optimization hasn't converged yet.\n",
      "  % self.max_iter, ConvergenceWarning)\n",
      "\n"
     ]
    },
    {
     "name": "stdout",
     "output_type": "stream",
     "text": [
      "RMSE:\n",
      "1.000730886942568                                                                   \n",
      " 34%|███▍      | 34/100 [35:10<1:52:15, 102.06s/trial, best loss: 0.9870093261983032]"
     ]
    },
    {
     "name": "stderr",
     "output_type": "stream",
     "text": [
      "/Users/rpenumarti/opt/anaconda3/envs/dsci553/lib/python3.6/site-packages/sklearn/neural_network/_multilayer_perceptron.py:617: ConvergenceWarning: Stochastic Optimizer: Maximum iterations (74) reached and the optimization hasn't converged yet.\n",
      "  % self.max_iter, ConvergenceWarning)\n",
      "\n"
     ]
    },
    {
     "name": "stdout",
     "output_type": "stream",
     "text": [
      "RMSE:                                                                                \n",
      "0.9876520616028244                                                                   \n",
      "RMSE:                                                                                \n",
      "0.9886885138810276                                                                   \n",
      "RMSE:                                                                                \n",
      "0.9879573854862079                                                                  \n",
      " 37%|███▋      | 37/100 [38:27<1:17:44, 74.04s/trial, best loss: 0.9870093261983032]"
     ]
    },
    {
     "name": "stderr",
     "output_type": "stream",
     "text": [
      "/Users/rpenumarti/opt/anaconda3/envs/dsci553/lib/python3.6/site-packages/sklearn/neural_network/_multilayer_perceptron.py:617: ConvergenceWarning: Stochastic Optimizer: Maximum iterations (56) reached and the optimization hasn't converged yet.\n",
      "  % self.max_iter, ConvergenceWarning)\n",
      "\n"
     ]
    },
    {
     "name": "stdout",
     "output_type": "stream",
     "text": [
      "RMSE:                                                                               \n",
      "0.9889320648496962                                                                  \n",
      "RMSE:                                                                               \n",
      "0.9887690212036304                                                                  \n",
      "RMSE:                                                                               \n",
      "0.9906465880267361                                                                  \n",
      "RMSE:                                                                               \n",
      "0.988592782053964                                                                 \n",
      "RMSE:                                                                               \n",
      "0.9883665069305304                                                                  \n",
      "RMSE:                                                                               \n",
      "1.0155284771847146                                                                \n",
      "RMSE:                                                                             \n",
      "0.9881719028209406                                                                \n",
      "RMSE:                                                                             \n",
      "0.9897293235573217                                                                \n",
      "RMSE:                                                                             \n",
      "1.021910219579201                                                                 \n",
      " 46%|████▌     | 46/100 [45:41<46:01, 51.14s/trial, best loss: 0.9870093261983032]"
     ]
    },
    {
     "name": "stderr",
     "output_type": "stream",
     "text": [
      "/Users/rpenumarti/opt/anaconda3/envs/dsci553/lib/python3.6/site-packages/sklearn/neural_network/_multilayer_perceptron.py:617: ConvergenceWarning: Stochastic Optimizer: Maximum iterations (77) reached and the optimization hasn't converged yet.\n",
      "  % self.max_iter, ConvergenceWarning)\n",
      "\n"
     ]
    },
    {
     "name": "stdout",
     "output_type": "stream",
     "text": [
      "RMSE:                                                                             \n",
      "0.9872199512303956                                                                \n",
      "RMSE:                                                                             \n",
      "0.9923934727660391                                                                \n",
      "RMSE:                                                                             \n",
      "0.989534006341251                                                                 \n",
      " 49%|████▉     | 49/100 [48:23<41:56, 49.35s/trial, best loss: 0.9870093261983032]"
     ]
    },
    {
     "name": "stderr",
     "output_type": "stream",
     "text": [
      "/Users/rpenumarti/opt/anaconda3/envs/dsci553/lib/python3.6/site-packages/sklearn/neural_network/_multilayer_perceptron.py:617: ConvergenceWarning: Stochastic Optimizer: Maximum iterations (26) reached and the optimization hasn't converged yet.\n",
      "  % self.max_iter, ConvergenceWarning)\n",
      "\n"
     ]
    },
    {
     "name": "stdout",
     "output_type": "stream",
     "text": [
      "RMSE:                                                                             \n",
      "1.1218087879525258                                                                \n",
      "RMSE:                                                                             \n",
      "1.1221572341115917                                                                \n",
      "RMSE:                                                                             \n",
      "0.9877178180866215                                                                \n",
      "RMSE:                                                                             \n",
      "0.9885238655700869                                                                \n",
      "RMSE:                                                                             \n",
      "0.9964060018577093                                                                \n",
      "RMSE:                                                                             \n",
      "1.0197768125372282                                                                \n",
      "RMSE:                                                                             \n",
      "1.0095340075138934                                                                \n",
      "RMSE:                                                                             \n",
      "0.9881892269673647                                                                \n",
      "RMSE:                                                                             \n",
      "0.9947980037961484                                                                \n",
      "RMSE:                                                                             \n",
      "0.9959573358155264                                                                \n",
      " 59%|█████▉    | 59/100 [55:10<32:23, 47.40s/trial, best loss: 0.9870093261983032]"
     ]
    },
    {
     "name": "stderr",
     "output_type": "stream",
     "text": [
      "/Users/rpenumarti/opt/anaconda3/envs/dsci553/lib/python3.6/site-packages/sklearn/neural_network/_multilayer_perceptron.py:617: ConvergenceWarning: Stochastic Optimizer: Maximum iterations (70) reached and the optimization hasn't converged yet.\n",
      "  % self.max_iter, ConvergenceWarning)\n",
      "\n",
      "/Users/rpenumarti/opt/anaconda3/envs/dsci553/lib/python3.6/site-packages/sklearn/neural_network/_multilayer_perceptron.py:617: ConvergenceWarning: Stochastic Optimizer: Maximum iterations (123) reached and the optimization hasn't converged yet.\n",
      "  % self.max_iter, ConvergenceWarning)\n",
      "\n"
     ]
    },
    {
     "name": "stdout",
     "output_type": "stream",
     "text": [
      "RMSE:                                                                             \n",
      "1.001852364111533                                                                 \n",
      "RMSE:                                                                             \n",
      "0.993004346111341                                                                 \n",
      "RMSE:                                                                             \n",
      "1.0218037141248808                                                                \n",
      "RMSE:                                                                             \n",
      "1.1221039307291072                                                                \n",
      "RMSE:                                                                             \n",
      "0.9995439259430994                                                                \n",
      " 64%|██████▍   | 64/100 [59:52<27:39, 46.08s/trial, best loss: 0.9870093261983032]"
     ]
    },
    {
     "name": "stderr",
     "output_type": "stream",
     "text": [
      "/Users/rpenumarti/opt/anaconda3/envs/dsci553/lib/python3.6/site-packages/sklearn/neural_network/_multilayer_perceptron.py:617: ConvergenceWarning: Stochastic Optimizer: Maximum iterations (62) reached and the optimization hasn't converged yet.\n",
      "  % self.max_iter, ConvergenceWarning)\n",
      "\n"
     ]
    },
    {
     "name": "stdout",
     "output_type": "stream",
     "text": [
      "RMSE:                                                                             \n",
      "1.0126118975749563                                                                  \n",
      "RMSE:                                                                               \n",
      "0.987067015329586                                                                   \n",
      " 66%|██████▌   | 66/100 [1:02:26<38:16, 67.55s/trial, best loss: 0.9870093261983032]"
     ]
    },
    {
     "name": "stderr",
     "output_type": "stream",
     "text": [
      "/Users/rpenumarti/opt/anaconda3/envs/dsci553/lib/python3.6/site-packages/sklearn/neural_network/_multilayer_perceptron.py:617: ConvergenceWarning: Stochastic Optimizer: Maximum iterations (134) reached and the optimization hasn't converged yet.\n",
      "  % self.max_iter, ConvergenceWarning)\n",
      "\n"
     ]
    },
    {
     "name": "stdout",
     "output_type": "stream",
     "text": [
      "RMSE:                                                                               \n",
      "0.9877677711464491                                                                  \n",
      "RMSE:                                                                               \n",
      "0.9883957900233358                                                                  \n",
      " 68%|██████▊   | 68/100 [1:06:10<49:39, 93.12s/trial, best loss: 0.9870093261983032]"
     ]
    },
    {
     "name": "stderr",
     "output_type": "stream",
     "text": [
      "/Users/rpenumarti/opt/anaconda3/envs/dsci553/lib/python3.6/site-packages/sklearn/neural_network/_multilayer_perceptron.py:617: ConvergenceWarning: Stochastic Optimizer: Maximum iterations (155) reached and the optimization hasn't converged yet.\n",
      "  % self.max_iter, ConvergenceWarning)\n",
      "\n"
     ]
    },
    {
     "name": "stdout",
     "output_type": "stream",
     "text": [
      "RMSE:                                                                               \n",
      "0.9880813294187701                                                                  \n",
      "RMSE:                                                                               \n",
      "0.999113229468692                                                                   \n",
      " 70%|███████   | 70/100 [1:09:11<47:30, 95.03s/trial, best loss: 0.9870093261983032]"
     ]
    },
    {
     "name": "stderr",
     "output_type": "stream",
     "text": [
      "/Users/rpenumarti/opt/anaconda3/envs/dsci553/lib/python3.6/site-packages/sklearn/neural_network/_multilayer_perceptron.py:617: ConvergenceWarning: Stochastic Optimizer: Maximum iterations (108) reached and the optimization hasn't converged yet.\n",
      "  % self.max_iter, ConvergenceWarning)\n",
      "\n"
     ]
    },
    {
     "name": "stdout",
     "output_type": "stream",
     "text": [
      "RMSE:                                                                               \n",
      "0.9885402303570634                                                                  \n",
      " 71%|███████   | 71/100 [1:10:47<46:07, 95.43s/trial, best loss: 0.9870093261983032]"
     ]
    },
    {
     "name": "stderr",
     "output_type": "stream",
     "text": [
      "/Users/rpenumarti/opt/anaconda3/envs/dsci553/lib/python3.6/site-packages/sklearn/neural_network/_multilayer_perceptron.py:617: ConvergenceWarning: Stochastic Optimizer: Maximum iterations (99) reached and the optimization hasn't converged yet.\n",
      "  % self.max_iter, ConvergenceWarning)\n",
      "\n",
      "/Users/rpenumarti/opt/anaconda3/envs/dsci553/lib/python3.6/site-packages/sklearn/neural_network/_multilayer_perceptron.py:617: ConvergenceWarning: Stochastic Optimizer: Maximum iterations (136) reached and the optimization hasn't converged yet.\n",
      "  % self.max_iter, ConvergenceWarning)\n",
      "\n"
     ]
    },
    {
     "name": "stdout",
     "output_type": "stream",
     "text": [
      "RMSE:                                                                               \n",
      "0.993175017352215                                                                   \n",
      "RMSE:                                                                                \n",
      "0.9872115761709152                                                                   \n",
      "RMSE:                                                                                \n",
      "0.9932608229459529                                                                   \n",
      "RMSE:                                                                                \n",
      "0.9892327403832943                                                                  \n",
      "RMSE:                                                                               \n",
      "0.9923904756642049                                                                  \n",
      "RMSE:                                                                               \n",
      "0.9871494341104109                                                                  \n",
      "RMSE:                                                                               \n",
      "0.9869474577673258                                                                  \n",
      "RMSE:                                                                               \n",
      "0.9876665662422971                                                                  \n",
      "RMSE:                                                                               \n",
      "1.0591496449936946                                                                  \n",
      "RMSE:                                                                               \n",
      "0.9933105968893656                                                                  \n",
      "RMSE:                                                                               \n",
      "0.9880727815194311                                                                  \n",
      "RMSE:                                                                               \n",
      "0.9899827187898167                                                                  \n",
      "RMSE:                                                                               \n",
      "0.988846627870005                                                                   \n",
      "RMSE:                                                                               \n",
      "0.9879118558271265                                                                  \n",
      "RMSE:                                                                               \n",
      "1.0372490347680337                                                                  \n",
      "RMSE:                                                                               \n",
      "0.9930171462815973                                                                  \n",
      "RMSE:                                                                               \n",
      "0.9920040353354508                                                                  \n",
      "RMSE:                                                                               \n",
      "0.988454941767324                                                                   \n",
      "RMSE:                                                                               \n",
      "0.9911175815046163                                                                  \n",
      "RMSE:                                                                               \n",
      "0.9879683382736719                                                                  \n",
      "RMSE:                                                                               \n",
      "0.9880013291552457                                                                  \n",
      "RMSE:                                                                               \n",
      "0.9887194031445535                                                                  \n",
      "RMSE:                                                                               \n",
      "0.9936247305101249                                                                  \n",
      "RMSE:                                                                               \n",
      "0.9899515237163827                                                                  \n",
      " 95%|█████████▌| 95/100 [1:26:42<02:26, 29.38s/trial, best loss: 0.9869474577673258]"
     ]
    },
    {
     "name": "stderr",
     "output_type": "stream",
     "text": [
      "/Users/rpenumarti/opt/anaconda3/envs/dsci553/lib/python3.6/site-packages/sklearn/neural_network/_multilayer_perceptron.py:617: ConvergenceWarning: Stochastic Optimizer: Maximum iterations (27) reached and the optimization hasn't converged yet.\n",
      "  % self.max_iter, ConvergenceWarning)\n",
      "\n"
     ]
    },
    {
     "name": "stdout",
     "output_type": "stream",
     "text": [
      "RMSE:                                                                               \n",
      "0.987649925555707                                                                   \n",
      "RMSE:                                                                               \n",
      "0.9969576655720611                                                                  \n",
      " 97%|█████████▋| 97/100 [1:27:51<01:38, 32.80s/trial, best loss: 0.9869474577673258]"
     ]
    },
    {
     "name": "stderr",
     "output_type": "stream",
     "text": [
      "/Users/rpenumarti/opt/anaconda3/envs/dsci553/lib/python3.6/site-packages/sklearn/neural_network/_multilayer_perceptron.py:617: ConvergenceWarning: Stochastic Optimizer: Maximum iterations (49) reached and the optimization hasn't converged yet.\n",
      "  % self.max_iter, ConvergenceWarning)\n",
      "\n"
     ]
    },
    {
     "name": "stdout",
     "output_type": "stream",
     "text": [
      "RMSE:                                                                               \n",
      "0.9884344779910732                                                                  \n",
      "RMSE:                                                                               \n",
      "0.9888258390275899                                                                  \n",
      "RMSE:                                                                               \n",
      "0.9878504481214172                                                                  \n",
      "100%|██████████| 100/100 [1:29:38<00:00, 53.79s/trial, best loss: 0.9869474577673258]\n"
     ]
    }
   ],
   "source": [
    "trials = Trials()\n",
    "\n",
    "best_hyperparams = fmin(fn = objective_mlp,\n",
    "                        space = space,\n",
    "                        algo = tpe.suggest,\n",
    "                        max_evals = 100,\n",
    "                        trials = trials)"
   ]
  },
  {
   "cell_type": "code",
   "execution_count": 15,
   "metadata": {},
   "outputs": [
    {
     "data": {
      "text/plain": [
       "{'alpha': 1.1229576726515301e-05,\n",
       " 'batch_size': 73.0,\n",
       " 'max_depth': 0.0012930826800508551,\n",
       " 'max_iter': 77.0}"
      ]
     },
     "execution_count": 15,
     "metadata": {},
     "output_type": "execute_result"
    }
   ],
   "source": [
    "best_hyperparams"
   ]
  },
  {
   "cell_type": "code",
   "execution_count": 17,
   "metadata": {},
   "outputs": [
    {
     "name": "stdout",
     "output_type": "stream",
     "text": [
      "Train RMSE: 0.9900167346453688; Test RMSE: 0.9874462773725613\n"
     ]
    }
   ],
   "source": [
    "mlp_best = MLPRegressor(solver=space['solver'],\n",
    "                    learning_rate=space['learning_rate'], alpha=best_hyperparams['alpha'], early_stopping=space['early_stopping'], \n",
    "                    max_iter=int(best_hyperparams['max_iter']), batch_size=int(best_hyperparams['batch_size'])).fit(X_train, y_train)\n",
    "y_pred_train = list(mlp_best.predict(X_train))\n",
    "train_rmse = mean_squared_error(list(y_train), y_pred_train, squared=False)\n",
    "\n",
    "y_pred_test = list(mlp_best.predict(X_test))\n",
    "test_rmse = mean_squared_error(list(y_test), y_pred_test, squared=False)\n",
    "\n",
    "print(f'Train RMSE: {train_rmse}; Test RMSE: {test_rmse}')"
   ]
  },
  {
   "cell_type": "code",
   "execution_count": 18,
   "metadata": {},
   "outputs": [],
   "source": [
    "from sklearn.model_selection import GridSearchCV, KFold"
   ]
  },
  {
   "cell_type": "code",
   "execution_count": 19,
   "metadata": {},
   "outputs": [
    {
     "data": {
      "text/plain": [
       "GridSearchCV(cv=KFold(n_splits=5, random_state=None, shuffle=True),\n",
       "             estimator=MLPRegressor(alpha=1.1229576726515301e-05, batch_size=73,\n",
       "                                    early_stopping=True,\n",
       "                                    learning_rate='invscaling', max_iter=77),\n",
       "             n_jobs=-1,\n",
       "             param_grid={'hidden_layer_sizes': [(50,), (100,), (200,), (400,),\n",
       "                                                (50, 25), (100, 50), (200, 100),\n",
       "                                                (400, 200), (50, 25, 10),\n",
       "                                                (100, 50, 25), (200, 100, 50),\n",
       "                                                (400, 200, 100)],\n",
       "                         'learning_rate_init': [0.0001, 0.001, 0.01, 0.1]})"
      ]
     },
     "execution_count": 19,
     "metadata": {},
     "output_type": "execute_result"
    }
   ],
   "source": [
    "param_grid = {}\n",
    "param_grid[\"hidden_layer_sizes\"] = [(50,), (100,), (200,), (400,), (50, 25,), (100, 50,), (200, 100,), (400, 200,),\n",
    "                                        (50, 25, 10,), (100, 50, 25,), (200, 100, 50,), (400, 200, 100,)]\n",
    "param_grid[\"learning_rate_init\"] = [1e-4, 1e-3, 1e-2, 1e-1]\n",
    "\n",
    "cv = KFold(n_splits=5, shuffle=True)\n",
    "gscv = GridSearchCV(mlp_best, param_grid, n_jobs=-1, cv=cv)\n",
    "gscv.fit(X_train, y_train)"
   ]
  },
  {
   "cell_type": "code",
   "execution_count": 20,
   "metadata": {},
   "outputs": [
    {
     "data": {
      "text/plain": [
       "MLPRegressor(alpha=1.1229576726515301e-05, batch_size=73, early_stopping=True,\n",
       "             hidden_layer_sizes=(400,), learning_rate='invscaling',\n",
       "             max_iter=77)"
      ]
     },
     "execution_count": 20,
     "metadata": {},
     "output_type": "execute_result"
    }
   ],
   "source": [
    "gscv.best_estimator_"
   ]
  },
  {
   "cell_type": "code",
   "execution_count": 21,
   "metadata": {},
   "outputs": [
    {
     "name": "stdout",
     "output_type": "stream",
     "text": [
      "Train RMSE: 0.989775429064536; Test RMSE: 0.9872883086808237\n"
     ]
    }
   ],
   "source": [
    "mlp_best = MLPRegressor(solver=space['solver'], learning_rate_init=gscv.best_estimator_.learning_rate_init,\n",
    "                    learning_rate=space['learning_rate'], alpha=best_hyperparams['alpha'], early_stopping=space['early_stopping'], \n",
    "                    max_iter=int(best_hyperparams['max_iter']), batch_size=int(best_hyperparams['batch_size']),\n",
    "                    hidden_layer_sizes=gscv.best_estimator_.hidden_layer_sizes).fit(X_train, y_train)\n",
    "y_pred_train = list(mlp_best.predict(X_train))\n",
    "train_rmse = mean_squared_error(list(y_train), y_pred_train, squared=False)\n",
    "\n",
    "y_pred_test = list(mlp_best.predict(X_test))\n",
    "test_rmse = mean_squared_error(list(y_test), y_pred_test, squared=False)\n",
    "\n",
    "print(f'Train RMSE: {train_rmse}; Test RMSE: {test_rmse}')"
   ]
  },
  {
   "cell_type": "code",
   "execution_count": 98,
   "metadata": {},
   "outputs": [],
   "source": [
    "import torch\n",
    "import torch.nn as nn\n",
    "import torchvision\n",
    "import torchvision.transforms as transforms\n",
    "import torch.nn.functional as F\n",
    "from torch import optim\n",
    "import numpy as np\n",
    "from math import sqrt\n",
    "from torch.utils.data import Dataset, DataLoader"
   ]
  },
  {
   "cell_type": "code",
   "execution_count": 86,
   "metadata": {},
   "outputs": [
    {
     "name": "stdout",
     "output_type": "stream",
     "text": [
      "cpu\n"
     ]
    }
   ],
   "source": [
    "dev = None\n",
    "if torch.cuda.is_available():\n",
    "  dev = torch.device('cuda:0')\n",
    "else:\n",
    "  dev = torch.device('cpu')\n",
    "\n",
    "print(dev)"
   ]
  },
  {
   "cell_type": "code",
   "execution_count": 143,
   "metadata": {},
   "outputs": [],
   "source": [
    "class Net(nn.Module):\n",
    "    def __init__(self):\n",
    "        super(Net, self).__init__()\n",
    "        self.fc1 = nn.Linear(6, 100)\n",
    "        self.fc2 = nn.Linear(100, 100)\n",
    "        self.fc3 = nn.Linear(100, 1)\n",
    "        self.dropout = nn.Dropout(0.3)\n",
    "\n",
    "    def forward(self, x):\n",
    "        x = F.relu(self.fc1(x))\n",
    "        x = self.dropout(x)\n",
    "        x = F.relu(self.fc2(x))\n",
    "        x = self.dropout(x)\n",
    "        x = self.fc3(x)\n",
    "        return x"
   ]
  },
  {
   "cell_type": "code",
   "execution_count": 131,
   "metadata": {},
   "outputs": [],
   "source": [
    "class Data(Dataset):\n",
    "    def __init__(self, X, y):\n",
    "        self.X = torch.from_numpy(X.astype(np.float32))\n",
    "        self.y = torch.from_numpy(y.values)\n",
    "        self.len = self.X.shape[0]\n",
    "       \n",
    "    def __getitem__(self, index):\n",
    "        return self.X[index], self.y[index]\n",
    "   \n",
    "    def __len__(self):\n",
    "        return self.len"
   ]
  },
  {
   "cell_type": "code",
   "execution_count": 132,
   "metadata": {},
   "outputs": [],
   "source": [
    "batch_size = 64\n",
    "\n",
    "train_data = Data(X_train_scaled, y_train)\n",
    "train_dataloader = DataLoader(dataset=train_data, batch_size=batch_size, shuffle=True)\n",
    "\n",
    "test_data = Data(X_test_scaled, y_test)\n",
    "test_dataloader = DataLoader(dataset=test_data, batch_size=batch_size, shuffle=True)"
   ]
  },
  {
   "cell_type": "code",
   "execution_count": 133,
   "metadata": {},
   "outputs": [
    {
     "name": "stdout",
     "output_type": "stream",
     "text": [
      "Batch: 1\n",
      "X shape: torch.Size([64, 6])\n",
      "y shape: torch.Size([64])\n"
     ]
    }
   ],
   "source": [
    "for batch, (X, y) in enumerate(train_dataloader):\n",
    "    print(f\"Batch: {batch+1}\")\n",
    "    print(f\"X shape: {X.shape}\")\n",
    "    print(f\"y shape: {y.shape}\")\n",
    "    break"
   ]
  },
  {
   "cell_type": "code",
   "execution_count": 144,
   "metadata": {},
   "outputs": [
    {
     "name": "stdout",
     "output_type": "stream",
     "text": [
      "Epoch 1: Loss - 7300.769656896591\n",
      "Epoch 2: Loss - 7212.214529037476\n",
      "Epoch 3: Loss - 7205.682536363602\n",
      "Epoch 4: Loss - 7200.915259361267\n",
      "Epoch 5: Loss - 7171.814963042736\n",
      "Epoch 6: Loss - 7154.1936329603195\n",
      "Epoch 7: Loss - 7145.818837761879\n",
      "Epoch 8: Loss - 7144.839111089706\n",
      "Epoch 9: Loss - 7143.698472559452\n",
      "Epoch 10: Loss - 7138.083162724972\n",
      "Epoch 11: Loss - 7137.669512093067\n",
      "Epoch 12: Loss - 7137.924142479897\n",
      "Epoch 13: Loss - 7138.158192813396\n",
      "Epoch 14: Loss - 7133.418288290501\n",
      "Epoch 15: Loss - 7137.479692697525\n",
      "Epoch 16: Loss - 7138.433169305325\n",
      "Epoch 17: Loss - 7137.042835831642\n",
      "Epoch 18: Loss - 7136.410615026951\n",
      "Epoch 19: Loss - 7139.914788365364\n",
      "Epoch 20: Loss - 7139.097600996494\n",
      "Epoch 21: Loss - 7141.646205067635\n",
      "Epoch 22: Loss - 7142.809313058853\n",
      "Epoch 23: Loss - 7140.812252104282\n",
      "Epoch 24: Loss - 7143.124248385429\n",
      "Epoch 25: Loss - 7142.831678509712\n"
     ]
    }
   ],
   "source": [
    "num_epochs = 25\n",
    "loss_function = nn.MSELoss()\n",
    "model = Net()\n",
    "model.to(dev)\n",
    "optimizer = optim.Adam(model.parameters(), lr=0.01)\n",
    "\n",
    "test_pred = None\n",
    "test_y = None\n",
    "\n",
    "for epoch in range(num_epochs):\n",
    "    total_loss = 0\n",
    "    for i, (X, y) in enumerate(train_dataloader):\n",
    "        optimizer.zero_grad()\n",
    "       \n",
    "        pred = model(X)\n",
    "        loss = torch.sqrt(loss_function(pred, y.unsqueeze(-1).float()))\n",
    "        loss.backward()\n",
    "        optimizer.step()\n",
    "\n",
    "        if epoch == num_epochs-1:\n",
    "            if i == 0:\n",
    "                test_pred = pred\n",
    "                test_y = y.unsqueeze(-1).float()\n",
    "            else:\n",
    "                test_pred = torch.cat((test_pred, pred), 0)\n",
    "                test_y = torch.cat((test_y, y.unsqueeze(-1).float()), 0)\n",
    "\n",
    "        total_loss += loss.item()\n",
    "    \n",
    "    print(f'Epoch {epoch+1}: Loss - {total_loss}')"
   ]
  },
  {
   "cell_type": "code",
   "execution_count": 145,
   "metadata": {},
   "outputs": [
    {
     "data": {
      "text/plain": [
       "1.0073580741882324"
      ]
     },
     "execution_count": 145,
     "metadata": {},
     "output_type": "execute_result"
    }
   ],
   "source": [
    "loss = torch.sqrt(loss_function(test_pred, test_y))\n",
    "loss.item()"
   ]
  }
 ],
 "metadata": {
  "kernelspec": {
   "display_name": "Python 3.6.13 ('dsci553')",
   "language": "python",
   "name": "python3"
  },
  "language_info": {
   "codemirror_mode": {
    "name": "ipython",
    "version": 3
   },
   "file_extension": ".py",
   "mimetype": "text/x-python",
   "name": "python",
   "nbconvert_exporter": "python",
   "pygments_lexer": "ipython3",
   "version": "3.6.13 |Anaconda, Inc.| (default, Feb 23 2021, 12:58:59) \n[GCC Clang 10.0.0 ]"
  },
  "orig_nbformat": 4,
  "vscode": {
   "interpreter": {
    "hash": "4a8a9fd6135a04e65d9fc768d7493d6ab809a19ea7b3495b2a5b197c313ef242"
   }
  }
 },
 "nbformat": 4,
 "nbformat_minor": 2
}
